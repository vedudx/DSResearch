{
 "cells": [
  {
   "cell_type": "code",
   "execution_count": 73,
   "id": "7975b4b2",
   "metadata": {},
   "outputs": [
    {
     "name": "stdout",
     "output_type": "stream",
     "text": [
      "The autoreload extension is already loaded. To reload it, use:\n",
      "  %reload_ext autoreload\n"
     ]
    }
   ],
   "source": [
    "import os, sys, codecs\n",
    "import numpy as np\n",
    "import pylab as plt\n",
    "%matplotlib inline\n",
    "%load_ext autoreload\n",
    "%autoreload 2\n",
    "\n",
    "import matplotlib.cm as cm\n",
    "import gzip\n",
    "import pandas as pd"
   ]
  },
  {
   "cell_type": "code",
   "execution_count": 74,
   "id": "0fe209cd",
   "metadata": {},
   "outputs": [],
   "source": [
    "zipfFileLoc = \"data/zipflaw_data/zipflawdata.csv.gz\"\n",
    "\n",
    "df = pd.read_csv(zipfFileLoc)\n"
   ]
  },
  {
   "cell_type": "code",
   "execution_count": 89,
   "id": "8f2c4cc0",
   "metadata": {},
   "outputs": [],
   "source": [
    "#sortin by frequency\n",
    "df = df.sort_values(by='count', ascending=False)"
   ]
  },
  {
   "cell_type": "code",
   "execution_count": 75,
   "id": "662122f0",
   "metadata": {},
   "outputs": [
    {
     "name": "stdout",
     "output_type": "stream",
     "text": [
      "719043\n"
     ]
    }
   ],
   "source": [
    "noOfHashtages = df['Hashtags'].unique().shape[0]\n",
    "print(noOfHashtages)"
   ]
  },
  {
   "cell_type": "code",
   "execution_count": 90,
   "id": "010957da",
   "metadata": {},
   "outputs": [
    {
     "data": {
      "text/html": [
       "<div>\n",
       "<style scoped>\n",
       "    .dataframe tbody tr th:only-of-type {\n",
       "        vertical-align: middle;\n",
       "    }\n",
       "\n",
       "    .dataframe tbody tr th {\n",
       "        vertical-align: top;\n",
       "    }\n",
       "\n",
       "    .dataframe thead th {\n",
       "        text-align: right;\n",
       "    }\n",
       "</style>\n",
       "<table border=\"1\" class=\"dataframe\">\n",
       "  <thead>\n",
       "    <tr style=\"text-align: right;\">\n",
       "      <th></th>\n",
       "      <th>Hashtags</th>\n",
       "      <th>count</th>\n",
       "    </tr>\n",
       "  </thead>\n",
       "  <tbody>\n",
       "    <tr>\n",
       "      <th>484515</th>\n",
       "      <td>'coronavirus'</td>\n",
       "      <td>2808572</td>\n",
       "    </tr>\n",
       "    <tr>\n",
       "      <th>78375</th>\n",
       "      <td>'coronavirus'</td>\n",
       "      <td>1103720</td>\n",
       "    </tr>\n",
       "    <tr>\n",
       "      <th>487765</th>\n",
       "      <td>'covid19'</td>\n",
       "      <td>655734</td>\n",
       "    </tr>\n",
       "    <tr>\n",
       "      <th>82949</th>\n",
       "      <td>'covid19'</td>\n",
       "      <td>406239</td>\n",
       "    </tr>\n",
       "    <tr>\n",
       "      <th>61841</th>\n",
       "      <td>'china'</td>\n",
       "      <td>292364</td>\n",
       "    </tr>\n",
       "  </tbody>\n",
       "</table>\n",
       "</div>"
      ],
      "text/plain": [
       "              Hashtags    count\n",
       "484515   'coronavirus'  2808572\n",
       "78375    'coronavirus'  1103720\n",
       "487765       'covid19'   655734\n",
       "82949        'covid19'   406239\n",
       "61841          'china'   292364"
      ]
     },
     "execution_count": 90,
     "metadata": {},
     "output_type": "execute_result"
    }
   ],
   "source": [
    "df.head()\n",
    "#needs to be fixed"
   ]
  },
  {
   "cell_type": "code",
   "execution_count": 77,
   "id": "79bca153",
   "metadata": {},
   "outputs": [],
   "source": [
    "import matplotlib.pyplot as plt\n",
    "import numpy as np\n",
    "from scipy.stats import gamma\n",
    "from scipy.stats import dgamma\n",
    "from scipy.stats import lognorm\n",
    "from scipy.stats import dweibull\n",
    "from scipy.stats import weibull_min\n",
    "from scipy.stats import norm"
   ]
  },
  {
   "cell_type": "code",
   "execution_count": 78,
   "id": "d61366c8",
   "metadata": {},
   "outputs": [],
   "source": [
    "modelsArray = []\n",
    "count_list = df[\"count\"].values.tolist()"
   ]
  },
  {
   "cell_type": "code",
   "execution_count": 85,
   "id": "61dd1371",
   "metadata": {},
   "outputs": [
    {
     "name": "stdout",
     "output_type": "stream",
     "text": [
      "0.2815508451579325 0 82.62904935727656\n",
      "3.1700056658227758\n"
     ]
    },
    {
     "data": {
      "image/png": "[encoded data removed]",
      "text/plain": [
       "<Figure size 432x288 with 1 Axes>"
      ]
     },
     "metadata": {
      "needs_background": "light"
     },
     "output_type": "display_data"
    }
   ],
   "source": [
    "x = np.linspace(0,300,1000)\n",
    "# Gamma\n",
    "\n",
    "shape, loc, scale = gamma.fit(count_list, floc=0)\n",
    "print(shape, loc, scale)\n",
    "y = gamma.logpdf(count_list, shape, loc, scale)\n",
    "\n",
    "\n",
    "log_likelihood = np.sum(-y)\n",
    "print(log_likelihood/noOfHashtages)\n",
    "simpleGamma = ['gamma', shape, loc, scale, log_likelihood/noOfHashtages]\n",
    "modelsArray.append(simpleGamma)\n",
    "plt.title('Fitted log Gamma')\n",
    "plt.plot(count_list, -y)\n",
    "plt.show()"
   ]
  },
  {
   "cell_type": "code",
   "execution_count": 80,
   "id": "d6accfde",
   "metadata": {},
   "outputs": [
    {
     "name": "stdout",
     "output_type": "stream",
     "text": [
      "0.28155073731775265 0 82.62901869149172\n",
      "3.8631538103685767\n"
     ]
    }
   ],
   "source": [
    "\n",
    "shape, loc, scale = dgamma.fit(count_list, floc=0)\n",
    "print(shape, loc, scale)\n",
    "y = dgamma.logpdf(count_list, shape, loc, scale)\n",
    "log_likelihood = np.sum(-y)\n",
    "print(log_likelihood/noOfHashtages)\n",
    "doubleGamma = ['double gamma', shape, loc, scale, log_likelihood/noOfHashtages]\n",
    "modelsArray.append(doubleGamma)"
   ]
  },
  {
   "cell_type": "code",
   "execution_count": 81,
   "id": "89c6d8bd",
   "metadata": {},
   "outputs": [
    {
     "name": "stdout",
     "output_type": "stream",
     "text": [
      "1.1443576489736416 0.0 1.958701099819162\n",
      "2.2260666527782713\n"
     ]
    }
   ],
   "source": [
    "# Log Normal\n",
    "shape, loc, scale = lognorm.fit(count_list, floc=0)\n",
    "print(shape, loc, scale)\n",
    "y = lognorm.logpdf(count_list, shape, loc, scale)\n",
    "log_likelihood = np.sum(-y)\n",
    "print(log_likelihood/noOfHashtages)\n",
    "logNormal = ['log normal', shape, loc, scale, log_likelihood/noOfHashtages]\n",
    "modelsArray.append(logNormal)"
   ]
  },
  {
   "cell_type": "code",
   "execution_count": 82,
   "id": "be8e2161",
   "metadata": {},
   "outputs": [
    {
     "name": "stdout",
     "output_type": "stream",
     "text": [
      "0.5461024386423596 0 3.7950016727652853\n",
      "2.638423009440263\n"
     ]
    }
   ],
   "source": [
    "# Weibull\n",
    "shape, loc, scale = weibull_min.fit(count_list, floc=0)\n",
    "#print(data_tuple)\n",
    "print(shape, loc, scale)\n",
    "y = weibull_min.logpdf(count_list, shape, loc, scale)\n",
    "log_likelihood = np.sum(-y)\n",
    "print(log_likelihood/noOfHashtages)\n",
    "weibull_minM = ['weibull min', shape, loc, scale, log_likelihood/noOfHashtages]\n",
    "modelsArray.append(weibull_minM)"
   ]
  },
  {
   "cell_type": "code",
   "execution_count": 83,
   "id": "d4ae7cde",
   "metadata": {},
   "outputs": [
    {
     "name": "stdout",
     "output_type": "stream",
     "text": [
      "1.1498806374997866e-05 0.9999999999999999 1.5896064466240716\n",
      "[ 25.36311213  25.36311213  25.36311213 ...  25.36311213 -12.00235254\n",
      " -12.00235254]\n",
      "3.504639188737276\n"
     ]
    }
   ],
   "source": [
    "#shifted gamma\n",
    "shape, loc, scale = gamma.fit(count_list)\n",
    "print(shape, loc, scale)\n",
    "y = gamma.logpdf(count_list, shape, loc, scale)\n",
    "print(y)\n",
    "\n",
    "log_likelihood = np.sum(-y)\n",
    "print(log_likelihood/noOfHashtages)\n",
    "shiftedGamma = ['shifted', shape, loc, scale, log_likelihood/noOfHashtages]\n",
    "modelsArray.append(shiftedGamma)"
   ]
  },
  {
   "cell_type": "code",
   "execution_count": 86,
   "id": "31aace7c",
   "metadata": {},
   "outputs": [
    {
     "name": "stdout",
     "output_type": "stream",
     "text": [
      "[['double gamma', 0.28155073731775265, 0, 82.62901869149172, 3.8631538103685767], ['log normal', 1.1443576489736416, 0.0, 1.958701099819162, 2.2260666527782713], ['weibull min', 0.5461024386423596, 0, 3.7950016727652853, 2.638423009440263], ['shifted', 1.1498806374997866e-05, 0.9999999999999999, 1.5896064466240716, 3.504639188737276], ['gamma', 0.2815508451579325, 0, 82.62904935727656, 3.1700056658227758]]\n"
     ]
    },
    {
     "data": {
      "text/html": [
       "<div>\n",
       "<style scoped>\n",
       "    .dataframe tbody tr th:only-of-type {\n",
       "        vertical-align: middle;\n",
       "    }\n",
       "\n",
       "    .dataframe tbody tr th {\n",
       "        vertical-align: top;\n",
       "    }\n",
       "\n",
       "    .dataframe thead th {\n",
       "        text-align: right;\n",
       "    }\n",
       "</style>\n",
       "<table border=\"1\" class=\"dataframe\">\n",
       "  <thead>\n",
       "    <tr style=\"text-align: right;\">\n",
       "      <th></th>\n",
       "      <th>Model</th>\n",
       "      <th>shape</th>\n",
       "      <th>loc</th>\n",
       "      <th>scale</th>\n",
       "      <th>log_likelihood/M</th>\n",
       "    </tr>\n",
       "  </thead>\n",
       "  <tbody>\n",
       "    <tr>\n",
       "      <th>0</th>\n",
       "      <td>double gamma</td>\n",
       "      <td>0.281551</td>\n",
       "      <td>0.0</td>\n",
       "      <td>82.629019</td>\n",
       "      <td>3.863154</td>\n",
       "    </tr>\n",
       "    <tr>\n",
       "      <th>1</th>\n",
       "      <td>log normal</td>\n",
       "      <td>1.144358</td>\n",
       "      <td>0.0</td>\n",
       "      <td>1.958701</td>\n",
       "      <td>2.226067</td>\n",
       "    </tr>\n",
       "    <tr>\n",
       "      <th>2</th>\n",
       "      <td>weibull min</td>\n",
       "      <td>0.546102</td>\n",
       "      <td>0.0</td>\n",
       "      <td>3.795002</td>\n",
       "      <td>2.638423</td>\n",
       "    </tr>\n",
       "    <tr>\n",
       "      <th>3</th>\n",
       "      <td>shifted</td>\n",
       "      <td>0.000011</td>\n",
       "      <td>1.0</td>\n",
       "      <td>1.589606</td>\n",
       "      <td>3.504639</td>\n",
       "    </tr>\n",
       "    <tr>\n",
       "      <th>4</th>\n",
       "      <td>gamma</td>\n",
       "      <td>0.281551</td>\n",
       "      <td>0.0</td>\n",
       "      <td>82.629049</td>\n",
       "      <td>3.170006</td>\n",
       "    </tr>\n",
       "  </tbody>\n",
       "</table>\n",
       "</div>"
      ],
      "text/plain": [
       "          Model     shape  loc      scale  log_likelihood/M\n",
       "0  double gamma  0.281551  0.0  82.629019          3.863154\n",
       "1    log normal  1.144358  0.0   1.958701          2.226067\n",
       "2   weibull min  0.546102  0.0   3.795002          2.638423\n",
       "3       shifted  0.000011  1.0   1.589606          3.504639\n",
       "4         gamma  0.281551  0.0  82.629049          3.170006"
      ]
     },
     "execution_count": 86,
     "metadata": {},
     "output_type": "execute_result"
    }
   ],
   "source": [
    "#printing the results\n",
    "print(modelsArray)\n",
    "table_df = pd.DataFrame(modelsArray, columns = ['Model', 'shape', 'loc', 'scale', 'log_likelihood/M'])\n",
    "table_df.head()"
   ]
  },
  {
   "cell_type": "code",
   "execution_count": null,
   "id": "2b1fc664",
   "metadata": {},
   "outputs": [],
   "source": []
  }
 ],
 "metadata": {
  "kernelspec": {
   "display_name": "DataScience",
   "language": "python",
   "name": "python3"
  },
  "language_info": {
   "codemirror_mode": {
    "name": "ipython",
    "version": 3
   },
   "file_extension": ".py",
   "mimetype": "text/x-python",
   "name": "python",
   "nbconvert_exporter": "python",
   "pygments_lexer": "ipython3",
   "version": "3.9.12"
  },
  "vscode": {
   "interpreter": {
    "hash": "58a1da576b0589f1031c224acff547f12b528d048bcf4ca98de793aa49e49f74"
   }
  }
 },
 "nbformat": 4,
 "nbformat_minor": 5
}
