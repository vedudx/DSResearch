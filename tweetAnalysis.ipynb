{
 "cells": [
  {
   "cell_type": "code",
   "execution_count": 2,
   "id": "28ae6fb1",
   "metadata": {},
   "outputs": [
    {
     "name": "stderr",
     "output_type": "stream",
     "text": [
      "/home/vedu_x/miniconda3/envs/DataScience/lib/python3.9/site-packages/scipy/__init__.py:146: UserWarning: A NumPy version >=1.16.5 and <1.23.0 is required for this version of SciPy (detected version 1.23.1\n",
      "  warnings.warn(f\"A NumPy version >={np_minversion} and <{np_maxversion}\"\n"
     ]
    }
   ],
   "source": [
    "import glob\n",
    "import sys\n",
    "import pandas as pd\n",
    "import numpy as np\n",
    "import datetime\n",
    "import matplotlib.pyplot as plt\n",
    "import seaborn as sns\n",
    "%load_ext autoreload\n",
    "%autoreload 1"
   ]
  },
  {
   "cell_type": "code",
   "execution_count": 3,
   "id": "50b3095f",
   "metadata": {},
   "outputs": [],
   "source": [
    "sns.set(rc={'figure.figsize':(11, 4)})\n"
   ]
  },
  {
   "cell_type": "code",
   "execution_count": 4,
   "id": "adbab187",
   "metadata": {},
   "outputs": [
    {
     "data": {
      "text/html": [
       "<div>\n",
       "<style scoped>\n",
       "    .dataframe tbody tr th:only-of-type {\n",
       "        vertical-align: middle;\n",
       "    }\n",
       "\n",
       "    .dataframe tbody tr th {\n",
       "        vertical-align: top;\n",
       "    }\n",
       "\n",
       "    .dataframe thead th {\n",
       "        text-align: right;\n",
       "    }\n",
       "</style>\n",
       "<table border=\"1\" class=\"dataframe\">\n",
       "  <thead>\n",
       "    <tr style=\"text-align: right;\">\n",
       "      <th></th>\n",
       "      <th>CreatedAt</th>\n",
       "      <th>CreatedAt_Full</th>\n",
       "      <th>Epoch_Time</th>\n",
       "      <th>TweetID</th>\n",
       "      <th>UserID</th>\n",
       "      <th>Handle</th>\n",
       "      <th>Followers</th>\n",
       "      <th>Friends</th>\n",
       "      <th>Hashtags</th>\n",
       "      <th>Retweeted</th>\n",
       "      <th>Retweeted_ID</th>\n",
       "      <th>Text</th>\n",
       "      <th>Year</th>\n",
       "      <th>month</th>\n",
       "      <th>day</th>\n",
       "      <th>date</th>\n",
       "    </tr>\n",
       "  </thead>\n",
       "  <tbody>\n",
       "    <tr>\n",
       "      <th>0</th>\n",
       "      <td>2020-01-21</td>\n",
       "      <td>Tue Jan 21 22:45:27 +0000 2020</td>\n",
       "      <td>1.579665e+09</td>\n",
       "      <td>1219752899636613121</td>\n",
       "      <td>1110906564158869505</td>\n",
       "      <td>Huerconetzin</td>\n",
       "      <td>406</td>\n",
       "      <td>1982</td>\n",
       "      <td>'coronavirus'</td>\n",
       "      <td>YES</td>\n",
       "      <td>1.865051e+07</td>\n",
       "      <td>RT @AnneKPIX: @CDC has activated its emergency...</td>\n",
       "      <td>2020</td>\n",
       "      <td>1</td>\n",
       "      <td>21</td>\n",
       "      <td>2020-01-21 22:45:27</td>\n",
       "    </tr>\n",
       "    <tr>\n",
       "      <th>1</th>\n",
       "      <td>2020-01-21</td>\n",
       "      <td>Tue Jan 21 22:49:17 +0000 2020</td>\n",
       "      <td>1.579665e+09</td>\n",
       "      <td>1219753863940648965</td>\n",
       "      <td>2252416118</td>\n",
       "      <td>Paxman42</td>\n",
       "      <td>400</td>\n",
       "      <td>1286</td>\n",
       "      <td>'lungcancer'</td>\n",
       "      <td>YES</td>\n",
       "      <td>7.865932e+17</td>\n",
       "      <td>RT @OurWarOnCancer: Where is our FEDERAL vacci...</td>\n",
       "      <td>2020</td>\n",
       "      <td>1</td>\n",
       "      <td>21</td>\n",
       "      <td>2020-01-21 22:49:17</td>\n",
       "    </tr>\n",
       "    <tr>\n",
       "      <th>2</th>\n",
       "      <td>2020-01-21</td>\n",
       "      <td>Tue Jan 21 22:54:57 +0000 2020</td>\n",
       "      <td>1.579665e+09</td>\n",
       "      <td>1219755288988798981</td>\n",
       "      <td>738000529775697920</td>\n",
       "      <td>beerhowell</td>\n",
       "      <td>67</td>\n",
       "      <td>470</td>\n",
       "      <td>NaN</td>\n",
       "      <td>YES</td>\n",
       "      <td>8.070950e+05</td>\n",
       "      <td>RT @nytimes: Breaking News: The first U.S. cas...</td>\n",
       "      <td>2020</td>\n",
       "      <td>1</td>\n",
       "      <td>21</td>\n",
       "      <td>2020-01-21 22:54:57</td>\n",
       "    </tr>\n",
       "    <tr>\n",
       "      <th>3</th>\n",
       "      <td>2020-01-21</td>\n",
       "      <td>Tue Jan 21 22:18:51 +0000 2020</td>\n",
       "      <td>1.579663e+09</td>\n",
       "      <td>1219746203652456448</td>\n",
       "      <td>969776806860476416</td>\n",
       "      <td>FREEDANON17</td>\n",
       "      <td>3712</td>\n",
       "      <td>2172</td>\n",
       "      <td>NaN</td>\n",
       "      <td>YES</td>\n",
       "      <td>5.867623e+08</td>\n",
       "      <td>RT @ScottAnthonyUSA: ⚠️ IT SHOULD BE NOTED tha...</td>\n",
       "      <td>2020</td>\n",
       "      <td>1</td>\n",
       "      <td>21</td>\n",
       "      <td>2020-01-21 22:18:51</td>\n",
       "    </tr>\n",
       "    <tr>\n",
       "      <th>4</th>\n",
       "      <td>2020-01-21</td>\n",
       "      <td>Tue Jan 21 22:47:01 +0000 2020</td>\n",
       "      <td>1.579665e+09</td>\n",
       "      <td>1219753292571594754</td>\n",
       "      <td>33833239</td>\n",
       "      <td>IAmTonyaNash</td>\n",
       "      <td>3954</td>\n",
       "      <td>4953</td>\n",
       "      <td>'publichealth'</td>\n",
       "      <td>YES</td>\n",
       "      <td>1.465700e+08</td>\n",
       "      <td>RT @CDCgov: PHAP gives future #publichealth pr...</td>\n",
       "      <td>2020</td>\n",
       "      <td>1</td>\n",
       "      <td>21</td>\n",
       "      <td>2020-01-21 22:47:01</td>\n",
       "    </tr>\n",
       "  </tbody>\n",
       "</table>\n",
       "</div>"
      ],
      "text/plain": [
       "    CreatedAt                  CreatedAt_Full    Epoch_Time  \\\n",
       "0  2020-01-21  Tue Jan 21 22:45:27 +0000 2020  1.579665e+09   \n",
       "1  2020-01-21  Tue Jan 21 22:49:17 +0000 2020  1.579665e+09   \n",
       "2  2020-01-21  Tue Jan 21 22:54:57 +0000 2020  1.579665e+09   \n",
       "3  2020-01-21  Tue Jan 21 22:18:51 +0000 2020  1.579663e+09   \n",
       "4  2020-01-21  Tue Jan 21 22:47:01 +0000 2020  1.579665e+09   \n",
       "\n",
       "               TweetID               UserID        Handle  Followers  Friends  \\\n",
       "0  1219752899636613121  1110906564158869505  Huerconetzin        406     1982   \n",
       "1  1219753863940648965           2252416118      Paxman42        400     1286   \n",
       "2  1219755288988798981   738000529775697920    beerhowell         67      470   \n",
       "3  1219746203652456448   969776806860476416   FREEDANON17       3712     2172   \n",
       "4  1219753292571594754             33833239  IAmTonyaNash       3954     4953   \n",
       "\n",
       "         Hashtags Retweeted  Retweeted_ID  \\\n",
       "0   'coronavirus'       YES  1.865051e+07   \n",
       "1    'lungcancer'       YES  7.865932e+17   \n",
       "2             NaN       YES  8.070950e+05   \n",
       "3             NaN       YES  5.867623e+08   \n",
       "4  'publichealth'       YES  1.465700e+08   \n",
       "\n",
       "                                                Text  Year  month  day  \\\n",
       "0  RT @AnneKPIX: @CDC has activated its emergency...  2020      1   21   \n",
       "1  RT @OurWarOnCancer: Where is our FEDERAL vacci...  2020      1   21   \n",
       "2  RT @nytimes: Breaking News: The first U.S. cas...  2020      1   21   \n",
       "3  RT @ScottAnthonyUSA: ⚠️ IT SHOULD BE NOTED tha...  2020      1   21   \n",
       "4  RT @CDCgov: PHAP gives future #publichealth pr...  2020      1   21   \n",
       "\n",
       "                  date  \n",
       "0  2020-01-21 22:45:27  \n",
       "1  2020-01-21 22:49:17  \n",
       "2  2020-01-21 22:54:57  \n",
       "3  2020-01-21 22:18:51  \n",
       "4  2020-01-21 22:47:01  "
      ]
     },
     "execution_count": 4,
     "metadata": {},
     "output_type": "execute_result"
    }
   ],
   "source": [
    "files = \"data/cleaned_data\"\n",
    "\n",
    "\n",
    "df = pd.read_csv(files+\"/2020-01-21mod.csv.gz\")\n",
    "\n",
    "#print(data_files)\n",
    "df.head()"
   ]
  },
  {
   "cell_type": "code",
   "execution_count": 5,
   "id": "438d91ee",
   "metadata": {},
   "outputs": [
    {
     "name": "stdout",
     "output_type": "stream",
     "text": [
      "['data/cleaned_data/2020-03-27mod.csv.gz', 'data/cleaned_data/2020-03-21mod.csv.gz', 'data/cleaned_data/2020-02-22mod.csv.gz', 'data/cleaned_data/2020-03-03mod.csv.gz', 'data/cleaned_data/2020-03-01mod.csv.gz', 'data/cleaned_data/2020-02-17mod.csv.gz', 'data/cleaned_data/2020-03-09mod.csv.gz', 'data/cleaned_data/2020-01-25mod.csv.gz', 'data/cleaned_data/2020-03-06mod.csv.gz', 'data/cleaned_data/2020-01-21mod.csv.gz', 'data/cleaned_data/2020-03-30mod.csv.gz', 'data/cleaned_data/2020-03-12mod.csv.gz', 'data/cleaned_data/2020-02-14mod.csv.gz', 'data/cleaned_data/2020-03-17mod.csv.gz', 'data/cleaned_data/2020-03-08mod.csv.gz', 'data/cleaned_data/2020-01-26mod.csv.gz', 'data/cleaned_data/2020-02-24mod.csv.gz', 'data/cleaned_data/2020-02-20mod.csv.gz', 'data/cleaned_data/2020-02-16mod.csv.gz', 'data/cleaned_data/2020-01-31mod.csv.gz', 'data/cleaned_data/2020-02-12mod.csv.gz', 'data/cleaned_data/2020-02-19mod.csv.gz', 'data/cleaned_data/2020-02-06mod.csv.gz', 'data/cleaned_data/2020-03-28mod.csv.gz', 'data/cleaned_data/2020-03-14mod.csv.gz', 'data/cleaned_data/2020-02-10mod.csv.gz', 'data/cleaned_data/2020-03-23mod.csv.gz', 'data/cleaned_data/2020-02-26mod.csv.gz', 'data/cleaned_data/2020-03-25mod.csv.gz', 'data/cleaned_data/2020-02-27mod.csv.gz', 'data/cleaned_data/2020-02-01mod.csv.gz', 'data/cleaned_data/2020-03-19mod.csv.gz', 'data/cleaned_data/2020-02-03mod.csv.gz', 'data/cleaned_data/2020-03-31mod.csv.gz', 'data/cleaned_data/2020-01-28mod.csv.gz', 'data/cleaned_data/2020-02-04mod.csv.gz', 'data/cleaned_data/2020-01-23mod.csv.gz', 'data/cleaned_data/2020-02-05mod.csv.gz', 'data/cleaned_data/2020-03-05mod.csv.gz', 'data/cleaned_data/2020-01-29mod.csv.gz', 'data/cleaned_data/2020-02-11mod.csv.gz', 'data/cleaned_data/2020-03-02mod.csv.gz']\n"
     ]
    }
   ],
   "source": [
    "data_files = glob.glob(files+\"/*.csv.gz\")\n",
    "print(data_files)"
   ]
  },
  {
   "cell_type": "code",
   "execution_count": 6,
   "id": "d6b672dc",
   "metadata": {},
   "outputs": [],
   "source": [
    "reqCols = ['TweetID', 'CreatedAt', 'CreatedAt_Full','Hashtags', 'date', 'Year', 'month', 'day']"
   ]
  },
  {
   "cell_type": "code",
   "execution_count": null,
   "id": "d3b09bad",
   "metadata": {},
   "outputs": [],
   "source": [
    "df = pd.concat((pd.read_csv(file,usecols=reqCols, engine='python') for file in data_files), ignore_index=True)\n",
    "#data for 21-01-2020\n",
    "df.head()\n"
   ]
  },
  {
   "cell_type": "code",
   "execution_count": 7,
   "id": "313299ba",
   "metadata": {},
   "outputs": [
    {
     "data": {
      "text/html": [
       "<div>\n",
       "<style scoped>\n",
       "    .dataframe tbody tr th:only-of-type {\n",
       "        vertical-align: middle;\n",
       "    }\n",
       "\n",
       "    .dataframe tbody tr th {\n",
       "        vertical-align: top;\n",
       "    }\n",
       "\n",
       "    .dataframe thead th {\n",
       "        text-align: right;\n",
       "    }\n",
       "</style>\n",
       "<table border=\"1\" class=\"dataframe\">\n",
       "  <thead>\n",
       "    <tr style=\"text-align: right;\">\n",
       "      <th></th>\n",
       "      <th>CreatedAt</th>\n",
       "      <th>CreatedAt_Full</th>\n",
       "      <th>TweetID</th>\n",
       "      <th>Hashtags</th>\n",
       "      <th>Date</th>\n",
       "    </tr>\n",
       "  </thead>\n",
       "  <tbody>\n",
       "    <tr>\n",
       "      <th>0</th>\n",
       "      <td>2020-03-18</td>\n",
       "      <td>Wed Mar 18 00:00:00 +0000 2020</td>\n",
       "      <td>1240065380061716482</td>\n",
       "      <td>NaN</td>\n",
       "      <td>2020-03-18</td>\n",
       "    </tr>\n",
       "    <tr>\n",
       "      <th>1</th>\n",
       "      <td>2020-03-18</td>\n",
       "      <td>Wed Mar 18 00:00:00 +0000 2020</td>\n",
       "      <td>1240065380065796096</td>\n",
       "      <td>NaN</td>\n",
       "      <td>2020-03-18</td>\n",
       "    </tr>\n",
       "    <tr>\n",
       "      <th>2</th>\n",
       "      <td>2020-03-18</td>\n",
       "      <td>Wed Mar 18 00:00:00 +0000 2020</td>\n",
       "      <td>1240065380078325760</td>\n",
       "      <td>'COVID19'</td>\n",
       "      <td>2020-03-18</td>\n",
       "    </tr>\n",
       "    <tr>\n",
       "      <th>3</th>\n",
       "      <td>2020-03-18</td>\n",
       "      <td>Wed Mar 18 00:00:00 +0000 2020</td>\n",
       "      <td>1240065380095123458</td>\n",
       "      <td>'Tribuna', 'QuédateEnCasa', 'SLRC', 'COVID19',...</td>\n",
       "      <td>2020-03-18</td>\n",
       "    </tr>\n",
       "    <tr>\n",
       "      <th>4</th>\n",
       "      <td>2020-03-18</td>\n",
       "      <td>Wed Mar 18 00:00:00 +0000 2020</td>\n",
       "      <td>1240065380204322818</td>\n",
       "      <td>'Europa', 'Auto', 'Industria', 'Empresas', 'In...</td>\n",
       "      <td>2020-03-18</td>\n",
       "    </tr>\n",
       "  </tbody>\n",
       "</table>\n",
       "</div>"
      ],
      "text/plain": [
       "    CreatedAt                  CreatedAt_Full              TweetID  \\\n",
       "0  2020-03-18  Wed Mar 18 00:00:00 +0000 2020  1240065380061716482   \n",
       "1  2020-03-18  Wed Mar 18 00:00:00 +0000 2020  1240065380065796096   \n",
       "2  2020-03-18  Wed Mar 18 00:00:00 +0000 2020  1240065380078325760   \n",
       "3  2020-03-18  Wed Mar 18 00:00:00 +0000 2020  1240065380095123458   \n",
       "4  2020-03-18  Wed Mar 18 00:00:00 +0000 2020  1240065380204322818   \n",
       "\n",
       "                                            Hashtags        Date  \n",
       "0                                                NaN  2020-03-18  \n",
       "1                                                NaN  2020-03-18  \n",
       "2                                          'COVID19'  2020-03-18  \n",
       "3  'Tribuna', 'QuédateEnCasa', 'SLRC', 'COVID19',...  2020-03-18  \n",
       "4  'Europa', 'Auto', 'Industria', 'Empresas', 'In...  2020-03-18  "
      ]
     },
     "execution_count": 7,
     "metadata": {},
     "output_type": "execute_result"
    }
   ],
   "source": [
    "#changing the index to date\n",
    "#df = df.set_index('CreatedAt')\n",
    "\n",
    "# df['Date'] = df['CreatedAt']\n",
    "df.head()"
   ]
  },
  {
   "cell_type": "code",
   "execution_count": 8,
   "id": "47435ccf",
   "metadata": {},
   "outputs": [],
   "source": [
    "# df['Date'] = pd.to_datetime(df['Date'])\n",
    "df = df.set_index('Date')\n",
    "\n",
    "df.date = pd.to_datetime(df.date)\n",
    "#drop NA hashtag values for the analysis of first part of research\n",
    "# df['Year'] = df.index.year\n",
    "# df['month'] = df.index.month\n",
    "# df['day'] = df.index.day"
   ]
  },
  {
   "cell_type": "code",
   "execution_count": null,
   "id": "abd87cc1",
   "metadata": {},
   "outputs": [],
   "source": [
    "df.dropna(subset=['Hashtags'], inplace=True)"
   ]
  },
  {
   "cell_type": "code",
   "execution_count": 43,
   "id": "4c04f325",
   "metadata": {},
   "outputs": [
    {
     "ename": "KeyboardInterrupt",
     "evalue": "",
     "output_type": "error",
     "traceback": [
      "\u001b[0;31m---------------------------------------------------------------------------\u001b[0m",
      "\u001b[0;31mKeyboardInterrupt\u001b[0m                         Traceback (most recent call last)",
      "Input \u001b[0;32mIn [43]\u001b[0m, in \u001b[0;36m<cell line: 1>\u001b[0;34m()\u001b[0m\n\u001b[0;32m----> 1\u001b[0m df \u001b[38;5;241m=\u001b[39m \u001b[43mdf\u001b[49m\u001b[38;5;241;43m.\u001b[39;49m\u001b[43massign\u001b[49m\u001b[43m(\u001b[49m\u001b[43mHashtags\u001b[49m\u001b[38;5;241;43m=\u001b[39;49m\u001b[43mdf\u001b[49m\u001b[38;5;241;43m.\u001b[39;49m\u001b[43mHashtags\u001b[49m\u001b[38;5;241;43m.\u001b[39;49m\u001b[43mstr\u001b[49m\u001b[38;5;241;43m.\u001b[39;49m\u001b[43msplit\u001b[49m\u001b[43m(\u001b[49m\u001b[38;5;124;43m\"\u001b[39;49m\u001b[38;5;124;43m,\u001b[39;49m\u001b[38;5;124;43m\"\u001b[39;49m\u001b[43m)\u001b[49m\u001b[43m)\u001b[49m\u001b[38;5;241;43m.\u001b[39;49m\u001b[43mexplode\u001b[49m\u001b[43m(\u001b[49m\u001b[38;5;124;43m'\u001b[39;49m\u001b[38;5;124;43mHashtags\u001b[39;49m\u001b[38;5;124;43m'\u001b[39;49m\u001b[43m)\u001b[49m\n",
      "File \u001b[0;32m~/opt/anaconda3/lib/python3.9/site-packages/pandas/core/frame.py:8347\u001b[0m, in \u001b[0;36mDataFrame.explode\u001b[0;34m(self, column, ignore_index)\u001b[0m\n\u001b[1;32m   8345\u001b[0m             \u001b[38;5;28;01mraise\u001b[39;00m \u001b[38;5;167;01mValueError\u001b[39;00m(\u001b[38;5;124m\"\u001b[39m\u001b[38;5;124mcolumns must have matching element counts\u001b[39m\u001b[38;5;124m\"\u001b[39m)\n\u001b[1;32m   8346\u001b[0m     result \u001b[38;5;241m=\u001b[39m DataFrame({c: df[c]\u001b[38;5;241m.\u001b[39mexplode() \u001b[38;5;28;01mfor\u001b[39;00m c \u001b[38;5;129;01min\u001b[39;00m columns})\n\u001b[0;32m-> 8347\u001b[0m result \u001b[38;5;241m=\u001b[39m \u001b[43mdf\u001b[49m\u001b[38;5;241;43m.\u001b[39;49m\u001b[43mdrop\u001b[49m\u001b[43m(\u001b[49m\u001b[43mcolumns\u001b[49m\u001b[43m,\u001b[49m\u001b[43m \u001b[49m\u001b[43maxis\u001b[49m\u001b[38;5;241;43m=\u001b[39;49m\u001b[38;5;241;43m1\u001b[39;49m\u001b[43m)\u001b[49m\u001b[38;5;241;43m.\u001b[39;49m\u001b[43mjoin\u001b[49m\u001b[43m(\u001b[49m\u001b[43mresult\u001b[49m\u001b[43m)\u001b[49m\n\u001b[1;32m   8348\u001b[0m \u001b[38;5;28;01mif\u001b[39;00m ignore_index:\n\u001b[1;32m   8349\u001b[0m     result\u001b[38;5;241m.\u001b[39mindex \u001b[38;5;241m=\u001b[39m default_index(\u001b[38;5;28mlen\u001b[39m(result))\n",
      "\u001b[0;31mKeyboardInterrupt\u001b[0m: "
     ]
    }
   ],
   "source": [
    "# df = df.assign(Hashtags=df.Hashtags.str.split(\",\")).explode('Hashtags')\n",
    "# df.Hashtags = df.Hashtags.str.lower()\n",
    "# time = df.CreatedAt_Full.str.split(' ')\n",
    "# time.head()\n",
    "# df['date'] = df['CreatedAt'] + \" \"+ time.apply(lambda x:x[3])\n"
   ]
  },
  {
   "cell_type": "code",
   "execution_count": 38,
   "id": "10f2d633",
   "metadata": {},
   "outputs": [
    {
     "data": {
      "text/html": [
       "<div>\n",
       "<style scoped>\n",
       "    .dataframe tbody tr th:only-of-type {\n",
       "        vertical-align: middle;\n",
       "    }\n",
       "\n",
       "    .dataframe tbody tr th {\n",
       "        vertical-align: top;\n",
       "    }\n",
       "\n",
       "    .dataframe thead th {\n",
       "        text-align: right;\n",
       "    }\n",
       "</style>\n",
       "<table border=\"1\" class=\"dataframe\">\n",
       "  <thead>\n",
       "    <tr style=\"text-align: right;\">\n",
       "      <th></th>\n",
       "      <th>CreatedAt</th>\n",
       "      <th>CreatedAt_Full</th>\n",
       "      <th>TweetID</th>\n",
       "      <th>Hashtags</th>\n",
       "      <th>Year</th>\n",
       "      <th>month</th>\n",
       "      <th>day</th>\n",
       "    </tr>\n",
       "    <tr>\n",
       "      <th>Date</th>\n",
       "      <th></th>\n",
       "      <th></th>\n",
       "      <th></th>\n",
       "      <th></th>\n",
       "      <th></th>\n",
       "      <th></th>\n",
       "      <th></th>\n",
       "    </tr>\n",
       "  </thead>\n",
       "  <tbody>\n",
       "    <tr>\n",
       "      <th>2020-01-21</th>\n",
       "      <td>57</td>\n",
       "      <td>57</td>\n",
       "      <td>57</td>\n",
       "      <td>57</td>\n",
       "      <td>57</td>\n",
       "      <td>57</td>\n",
       "      <td>57</td>\n",
       "    </tr>\n",
       "    <tr>\n",
       "      <th>2020-01-22</th>\n",
       "      <td>10764</td>\n",
       "      <td>10764</td>\n",
       "      <td>10764</td>\n",
       "      <td>10764</td>\n",
       "      <td>10764</td>\n",
       "      <td>10764</td>\n",
       "      <td>10764</td>\n",
       "    </tr>\n",
       "    <tr>\n",
       "      <th>2020-01-23</th>\n",
       "      <td>51895</td>\n",
       "      <td>51895</td>\n",
       "      <td>51895</td>\n",
       "      <td>51895</td>\n",
       "      <td>51895</td>\n",
       "      <td>51895</td>\n",
       "      <td>51895</td>\n",
       "    </tr>\n",
       "    <tr>\n",
       "      <th>2020-01-24</th>\n",
       "      <td>187227</td>\n",
       "      <td>187227</td>\n",
       "      <td>187227</td>\n",
       "      <td>187227</td>\n",
       "      <td>187227</td>\n",
       "      <td>187227</td>\n",
       "      <td>187227</td>\n",
       "    </tr>\n",
       "    <tr>\n",
       "      <th>2020-01-25</th>\n",
       "      <td>255648</td>\n",
       "      <td>255648</td>\n",
       "      <td>255648</td>\n",
       "      <td>255648</td>\n",
       "      <td>255648</td>\n",
       "      <td>255648</td>\n",
       "      <td>255648</td>\n",
       "    </tr>\n",
       "    <tr>\n",
       "      <th>...</th>\n",
       "      <td>...</td>\n",
       "      <td>...</td>\n",
       "      <td>...</td>\n",
       "      <td>...</td>\n",
       "      <td>...</td>\n",
       "      <td>...</td>\n",
       "      <td>...</td>\n",
       "    </tr>\n",
       "    <tr>\n",
       "      <th>2020-03-27</th>\n",
       "      <td>205195</td>\n",
       "      <td>205195</td>\n",
       "      <td>205195</td>\n",
       "      <td>205195</td>\n",
       "      <td>205195</td>\n",
       "      <td>205195</td>\n",
       "      <td>205195</td>\n",
       "    </tr>\n",
       "    <tr>\n",
       "      <th>2020-03-28</th>\n",
       "      <td>195738</td>\n",
       "      <td>195738</td>\n",
       "      <td>195738</td>\n",
       "      <td>195738</td>\n",
       "      <td>195738</td>\n",
       "      <td>195738</td>\n",
       "      <td>195738</td>\n",
       "    </tr>\n",
       "    <tr>\n",
       "      <th>2020-03-29</th>\n",
       "      <td>183454</td>\n",
       "      <td>183454</td>\n",
       "      <td>183454</td>\n",
       "      <td>183454</td>\n",
       "      <td>183454</td>\n",
       "      <td>183454</td>\n",
       "      <td>183454</td>\n",
       "    </tr>\n",
       "    <tr>\n",
       "      <th>2020-03-30</th>\n",
       "      <td>198208</td>\n",
       "      <td>198208</td>\n",
       "      <td>198208</td>\n",
       "      <td>198208</td>\n",
       "      <td>198208</td>\n",
       "      <td>198208</td>\n",
       "      <td>198208</td>\n",
       "    </tr>\n",
       "    <tr>\n",
       "      <th>2020-03-31</th>\n",
       "      <td>206104</td>\n",
       "      <td>206104</td>\n",
       "      <td>206104</td>\n",
       "      <td>206104</td>\n",
       "      <td>206104</td>\n",
       "      <td>206104</td>\n",
       "      <td>206104</td>\n",
       "    </tr>\n",
       "  </tbody>\n",
       "</table>\n",
       "<p>70 rows × 7 columns</p>\n",
       "</div>"
      ],
      "text/plain": [
       "            CreatedAt  CreatedAt_Full  TweetID  Hashtags    Year   month  \\\n",
       "Date                                                                       \n",
       "2020-01-21         57              57       57        57      57      57   \n",
       "2020-01-22      10764           10764    10764     10764   10764   10764   \n",
       "2020-01-23      51895           51895    51895     51895   51895   51895   \n",
       "2020-01-24     187227          187227   187227    187227  187227  187227   \n",
       "2020-01-25     255648          255648   255648    255648  255648  255648   \n",
       "...               ...             ...      ...       ...     ...     ...   \n",
       "2020-03-27     205195          205195   205195    205195  205195  205195   \n",
       "2020-03-28     195738          195738   195738    195738  195738  195738   \n",
       "2020-03-29     183454          183454   183454    183454  183454  183454   \n",
       "2020-03-30     198208          198208   198208    198208  198208  198208   \n",
       "2020-03-31     206104          206104   206104    206104  206104  206104   \n",
       "\n",
       "               day  \n",
       "Date                \n",
       "2020-01-21      57  \n",
       "2020-01-22   10764  \n",
       "2020-01-23   51895  \n",
       "2020-01-24  187227  \n",
       "2020-01-25  255648  \n",
       "...            ...  \n",
       "2020-03-27  205195  \n",
       "2020-03-28  195738  \n",
       "2020-03-29  183454  \n",
       "2020-03-30  198208  \n",
       "2020-03-31  206104  \n",
       "\n",
       "[70 rows x 7 columns]"
      ]
     },
     "execution_count": 38,
     "metadata": {},
     "output_type": "execute_result"
    }
   ],
   "source": [
    "#df['CreatedAt'].plot(linewidth=0.5)\n",
    "counts = df.groupby(['Date']).agg(len)\n",
    "counts\n",
    "\n"
   ]
  },
  {
   "cell_type": "code",
   "execution_count": 39,
   "id": "763f56e0",
   "metadata": {},
   "outputs": [],
   "source": [
    "counts.rename(columns = {'CreatedAt_Full':'noOfHashtags'}, inplace = True)\n",
    "counts.drop(columns=['TweetID', 'Hashtags', 'Year', 'month', 'day'], inplace=True)\n"
   ]
  },
  {
   "cell_type": "code",
   "execution_count": 40,
   "id": "f0235033",
   "metadata": {},
   "outputs": [
    {
     "data": {
      "text/html": [
       "<div>\n",
       "<style scoped>\n",
       "    .dataframe tbody tr th:only-of-type {\n",
       "        vertical-align: middle;\n",
       "    }\n",
       "\n",
       "    .dataframe tbody tr th {\n",
       "        vertical-align: top;\n",
       "    }\n",
       "\n",
       "    .dataframe thead th {\n",
       "        text-align: right;\n",
       "    }\n",
       "</style>\n",
       "<table border=\"1\" class=\"dataframe\">\n",
       "  <thead>\n",
       "    <tr style=\"text-align: right;\">\n",
       "      <th></th>\n",
       "      <th>CreatedAt</th>\n",
       "      <th>noOfHashtags</th>\n",
       "    </tr>\n",
       "    <tr>\n",
       "      <th>Date</th>\n",
       "      <th></th>\n",
       "      <th></th>\n",
       "    </tr>\n",
       "  </thead>\n",
       "  <tbody>\n",
       "    <tr>\n",
       "      <th>2020-03-27</th>\n",
       "      <td>205195</td>\n",
       "      <td>205195</td>\n",
       "    </tr>\n",
       "    <tr>\n",
       "      <th>2020-03-28</th>\n",
       "      <td>195738</td>\n",
       "      <td>195738</td>\n",
       "    </tr>\n",
       "    <tr>\n",
       "      <th>2020-03-29</th>\n",
       "      <td>183454</td>\n",
       "      <td>183454</td>\n",
       "    </tr>\n",
       "    <tr>\n",
       "      <th>2020-03-30</th>\n",
       "      <td>198208</td>\n",
       "      <td>198208</td>\n",
       "    </tr>\n",
       "    <tr>\n",
       "      <th>2020-03-31</th>\n",
       "      <td>206104</td>\n",
       "      <td>206104</td>\n",
       "    </tr>\n",
       "  </tbody>\n",
       "</table>\n",
       "</div>"
      ],
      "text/plain": [
       "            CreatedAt  noOfHashtags\n",
       "Date                               \n",
       "2020-03-27     205195        205195\n",
       "2020-03-28     195738        195738\n",
       "2020-03-29     183454        183454\n",
       "2020-03-30     198208        198208\n",
       "2020-03-31     206104        206104"
      ]
     },
     "execution_count": 40,
     "metadata": {},
     "output_type": "execute_result"
    }
   ],
   "source": [
    "counts.tail()"
   ]
  },
  {
   "cell_type": "code",
   "execution_count": 17,
   "id": "624dcb23",
   "metadata": {},
   "outputs": [
    {
     "data": {
      "text/html": [
       "<div>\n",
       "<style scoped>\n",
       "    .dataframe tbody tr th:only-of-type {\n",
       "        vertical-align: middle;\n",
       "    }\n",
       "\n",
       "    .dataframe tbody tr th {\n",
       "        vertical-align: top;\n",
       "    }\n",
       "\n",
       "    .dataframe thead th {\n",
       "        text-align: right;\n",
       "    }\n",
       "</style>\n",
       "<table border=\"1\" class=\"dataframe\">\n",
       "  <thead>\n",
       "    <tr style=\"text-align: right;\">\n",
       "      <th></th>\n",
       "      <th>CreatedAt</th>\n",
       "      <th>noOfHashtags</th>\n",
       "    </tr>\n",
       "    <tr>\n",
       "      <th>Date</th>\n",
       "      <th></th>\n",
       "      <th></th>\n",
       "    </tr>\n",
       "  </thead>\n",
       "  <tbody>\n",
       "    <tr>\n",
       "      <th>2020-01-21</th>\n",
       "      <td>57</td>\n",
       "      <td>57</td>\n",
       "    </tr>\n",
       "    <tr>\n",
       "      <th>2020-01-22</th>\n",
       "      <td>10764</td>\n",
       "      <td>10764</td>\n",
       "    </tr>\n",
       "    <tr>\n",
       "      <th>2020-01-23</th>\n",
       "      <td>51895</td>\n",
       "      <td>51895</td>\n",
       "    </tr>\n",
       "    <tr>\n",
       "      <th>2020-01-24</th>\n",
       "      <td>187227</td>\n",
       "      <td>187227</td>\n",
       "    </tr>\n",
       "    <tr>\n",
       "      <th>2020-01-25</th>\n",
       "      <td>255648</td>\n",
       "      <td>255648</td>\n",
       "    </tr>\n",
       "  </tbody>\n",
       "</table>\n",
       "</div>"
      ],
      "text/plain": [
       "            CreatedAt  noOfHashtags\n",
       "Date                               \n",
       "2020-01-21         57            57\n",
       "2020-01-22      10764         10764\n",
       "2020-01-23      51895         51895\n",
       "2020-01-24     187227        187227\n",
       "2020-01-25     255648        255648"
      ]
     },
     "execution_count": 17,
     "metadata": {},
     "output_type": "execute_result"
    }
   ],
   "source": [
    "counts.head()"
   ]
  },
  {
   "cell_type": "code",
   "execution_count": 18,
   "id": "8965ed18",
   "metadata": {},
   "outputs": [
    {
     "ename": "NameError",
     "evalue": "name 'ThreeMonthDays' is not defined",
     "output_type": "error",
     "traceback": [
      "\u001b[0;31m---------------------------------------------------------------------------\u001b[0m",
      "\u001b[0;31mNameError\u001b[0m                                 Traceback (most recent call last)",
      "Input \u001b[0;32mIn [18]\u001b[0m, in \u001b[0;36m<cell line: 1>\u001b[0;34m()\u001b[0m\n\u001b[0;32m----> 1\u001b[0m counts[\u001b[38;5;124m'\u001b[39m\u001b[38;5;124mThreeMonthIndex\u001b[39m\u001b[38;5;124m'\u001b[39m]\u001b[38;5;241m=\u001b[39m \u001b[43mThreeMonthDays\u001b[49m\n\u001b[1;32m      2\u001b[0m counts\u001b[38;5;241m.\u001b[39mhead(\u001b[38;5;241m1\u001b[39m)[\u001b[38;5;124m'\u001b[39m\u001b[38;5;124mnoOfHashtags\u001b[39m\u001b[38;5;124m'\u001b[39m]\n",
      "\u001b[0;31mNameError\u001b[0m: name 'ThreeMonthDays' is not defined"
     ]
    }
   ],
   "source": []
  },
  {
   "cell_type": "code",
   "execution_count": null,
   "id": "341feef0",
   "metadata": {},
   "outputs": [],
   "source": [
    "#noOfHash = counts['noOfHashtags'].tolist()\n",
    "#noOfHash"
   ]
  },
  {
   "cell_type": "code",
   "execution_count": null,
   "id": "e185a0d0",
   "metadata": {},
   "outputs": [],
   "source": [
    "#counts.loc[\"2020-03-01\"].index\n",
    "pd.to_datetime(\"2020-03-01\", format='%Y-%m-%d')\n",
    "\n",
    "#counts.index"
   ]
  },
  {
   "cell_type": "code",
   "execution_count": 41,
   "id": "7a6e4b1d",
   "metadata": {},
   "outputs": [
    {
     "data": {
      "image/png": "[encoded data removed]",
      "text/plain": [
       "<Figure size 792x288 with 1 Axes>"
      ]
     },
     "metadata": {},
     "output_type": "display_data"
    }
   ],
   "source": [
    "#ThreeMonthDays = list(range(21, 31+1))+list(range(1, 28+1))+ list(range(1, 31+1))\n",
    "\n",
    "#to find number of hashtags per second\n",
    "plt.plot(counts['noOfHashtags'].div(60*60*24), \"o-\", markersize=4)\n",
    "plt.ylabel('Hashtags per second', fontsize=15)\n",
    "plt.xlabel('Time(Days)', fontsize=15)\n",
    "\n",
    "plt.axvline(x = pd.to_datetime(\"2020-02-01\", format='%Y-%m-%d'), color='r', linestyle='--') # 1st of February\n",
    "plt.axvline(x = pd.to_datetime(\"2020-02-28\", format='%Y-%m-%d'), color='r', linestyle='--') # 28th of February\n",
    "#plt.axvline(x = March_April_indices[41], color='r', linestyle='--') # 25th of April\n",
    "plt.yticks(np.arange(0, 14, 4), fontsize = 12)\n",
    "plt.xticks(counts.index[::5], counts.index.day[::5], fontsize=12)\n",
    "plt.figtext(0.9, 0.9, \"b=1d\", wrap = True, horizontalalignment = 'center', fontsize = 15) \n",
    "plt.figtext(0.25, -0.05, \"Feb\", wrap = True, horizontalalignment = 'center', fontsize = 18)\n",
    "plt.figtext(0.75, -0.05, \"Mar\", wrap = True, horizontalalignment = 'center', fontsize = 18)\n",
    "plt.xlim(pd.to_datetime(\"2020-01-31\", format='%Y-%m-%d'), pd.to_datetime(\"2020-03-02\", format='%Y-%m-%d'))  #To be used later when have more data to focus on these months :\n",
    "#draw the plot\n",
    "plt.tight_layout()\n",
    "plt.savefig('image4.png')\n",
    "plt.show()\n",
    "#Tokens per Day"
   ]
  },
  {
   "cell_type": "code",
   "execution_count": 33,
   "id": "039e0f9b",
   "metadata": {},
   "outputs": [
    {
     "data": {
      "image/png": "[encoded data removed]",
      "text/plain": [
       "<Figure size 792x288 with 1 Axes>"
      ]
     },
     "metadata": {},
     "output_type": "display_data"
    }
   ],
   "source": [
    "#ThreeMonthDays = list(range(21, 31+1))+list(range(1, 28+1))+ list(range(1, 31+1))\n",
    "\n",
    "#to find number of hashtags per second\n",
    "plt.plot(counts['noOfHashtags'].div(60*60*24), \"o-\", markersize=4)\n",
    "plt.ylabel('Hashtags per second', fontsize=15)\n",
    "plt.xlabel('Time(Months)', fontsize=15)\n",
    "\n",
    "\n",
    "plt.axvline(x = pd.to_datetime(\"2020-02-01\", format='%Y-%m-%d'), color='r', linestyle='--') # 1st of February\n",
    "plt.axvline(x = pd.to_datetime(\"2020-02-28\", format='%Y-%m-%d'), color='r', linestyle='--') # 28th of February\n",
    "#plt.axvline(x = March_April_indices[41], color='r', linestyle='--') # 25th of April\n",
    "plt.yticks(np.arange(0, 14, 4), fontsize = 12)\n",
    "plt.xticks(counts.index[::30], counts.index.month_name()[::30], fontsize=12)\n",
    "plt.figtext(0.9, 0.9, \"b=1d\", wrap = True, horizontalalignment = 'center', fontsize = 15) \n",
    "#plt.figtext(0.25, -0.05, \"Feb\", wrap = True, horizontalalignment = 'center', fontsize = 18)\n",
    "#plt.figtext(0.75, -0.05, \"Mar\", wrap = True, horizontalalignment = 'center', fontsize = 18)\n",
    "#plt.xlim(pd.to_datetime(\"2020-01-31\", format='%Y-%m-%d'), pd.to_datetime(\"2020-03-02\", format='%Y-%m-%d'))  #To be used later when have more data to focus on these months :\n",
    "#draw the plot\n",
    "plt.tight_layout()\n",
    "plt.savefig('image3.png')\n",
    "plt.show()"
   ]
  },
  {
   "cell_type": "code",
   "execution_count": 21,
   "id": "f47004eb",
   "metadata": {},
   "outputs": [
    {
     "data": {
      "text/plain": [
       "Date\n",
       "2020-01-21       27\n",
       "2020-01-22     1774\n",
       "2020-01-23     6353\n",
       "2020-01-24    13916\n",
       "2020-01-25    15235\n",
       "Name: Hashtags, dtype: int64"
      ]
     },
     "execution_count": 21,
     "metadata": {},
     "output_type": "execute_result"
    }
   ],
   "source": [
    "counts.head()\n",
    "\n",
    "TokensPerDay = df.groupby(['Date'])['Hashtags'].nunique()\n",
    "#type of tokens per day\n",
    "\n",
    "TokensPerDay.head()"
   ]
  },
  {
   "cell_type": "code",
   "execution_count": 35,
   "id": "a3be4cf0",
   "metadata": {},
   "outputs": [
    {
     "data": {
      "image/png": "[encoded data removed]",
      "text/plain": [
       "<Figure size 792x288 with 1 Axes>"
      ]
     },
     "metadata": {},
     "output_type": "display_data"
    }
   ],
   "source": [
    "plt.plot(TokensPerDay.div(60*24))\n",
    "plt.ylabel('types of hashtags per minute', fontsize=15)\n",
    "plt.xlabel('Time(Months)', fontsize=15)\n",
    "\n",
    "plt.axvline(x = pd.to_datetime(\"2020-02-01\", format='%Y-%m-%d'), color='r', linestyle='--') # 1st of February\n",
    "plt.axvline(x = pd.to_datetime(\"2020-02-28\", format='%Y-%m-%d'), color='r', linestyle='--') # 28th of February\n",
    "#plt.axvline(x = March_April_indices[41], color='r', linestyle='--') # 25th of April\n",
    "plt.yticks(np.arange(0, 100, 20), fontsize = 12)\n",
    "plt.xticks(TokensPerDay.index[::30], TokensPerDay.index.month_name()[::30], fontsize=12)\n",
    "plt.figtext(0.9, 0.9, \"b=1d\", wrap = True, horizontalalignment = 'center', fontsize = 15) \n",
    "#plt.figtext(0.25, -0.05, \"Feb\", wrap = True, horizontalalignment = 'center', fontsize = 18)\n",
    "#plt.figtext(0.75, -0.05, \"Mar\", wrap = True, horizontalalignment = 'center', fontsize = 18)\n",
    "#plt.xlim(pd.to_datetime(\"2020-01-31\", format='%Y-%m-%d'), pd.to_datetime(\"2020-03-02\", format='%Y-%m-%d'))  #To be used later when have more data to focus on these months :\n",
    "#draw the plot\n",
    "plt.tight_layout()\n",
    "plt.savefig('image2.png')\n",
    "plt.show()\n",
    "#draw the plot\n",
    "#Tokens per Day"
   ]
  },
  {
   "cell_type": "code",
   "execution_count": 24,
   "id": "5eb3c68a",
   "metadata": {},
   "outputs": [
    {
     "data": {
      "image/png": "[encoded data removed]",
      "text/plain": [
       "<Figure size 792x288 with 1 Axes>"
      ]
     },
     "metadata": {},
     "output_type": "display_data"
    }
   ],
   "source": [
    "plt.plot(TokensPerDay.div(60*24))\n",
    "plt.ylabel('types of hashtags per minute', fontsize=15)\n",
    "plt.xlabel('Time(Months)', fontsize=15)\n",
    "\n",
    "plt.axvline(x = pd.to_datetime(\"2020-02-01\", format='%Y-%m-%d'), color='r', linestyle='--') # 1st of February\n",
    "plt.axvline(x = pd.to_datetime(\"2020-02-28\", format='%Y-%m-%d'), color='r', linestyle='--') # 28th of February\n",
    "#plt.axvline(x = March_April_indices[41], color='r', linestyle='--') # 25th of April\n",
    "plt.yticks(np.arange(0, 100, 20), fontsize = 12)\n",
    "plt.xticks(TokensPerDay.index[::5], TokensPerDay.index.day[::5], fontsize=12)\n",
    "plt.figtext(0.9, 0.9, \"b=1d\", wrap = True, horizontalalignment = 'center', fontsize = 15) \n",
    "#plt.figtext(0.25, -0.05, \"Feb\", wrap = True, horizontalalignment = 'center', fontsize = 18)\n",
    "#plt.figtext(0.75, -0.05, \"Mar\", wrap = True, horizontalalignment = 'center', fontsize = 18)\n",
    "#plt.xlim(pd.to_datetime(\"2020-01-31\", format='%Y-%m-%d'), pd.to_datetime(\"2020-03-02\", format='%Y-%m-%d'))  #To be used later when have more data to focus on these months :\n",
    "#draw the plot\n",
    "plt.tight_layout()\n",
    "plt.savefig('image1.png')\n",
    "plt.show()\n",
    "#draw the plot\n",
    "#Tokens per Day"
   ]
  },
  {
   "cell_type": "code",
   "execution_count": null,
   "id": "a3e5ad9a",
   "metadata": {},
   "outputs": [],
   "source": [
    "###zoom into week for hourly analysis\n",
    "\n",
    "\n",
    "\n",
    "df.head()\n",
    "\n",
    "\n",
    "\n"
   ]
  },
  {
   "cell_type": "code",
   "execution_count": null,
   "id": "d26b4de7",
   "metadata": {},
   "outputs": [],
   "source": [
    "df['TweetID'] = df['TweetID'].astype(int)"
   ]
  },
  {
   "cell_type": "code",
   "execution_count": null,
   "id": "50ff74b8",
   "metadata": {},
   "outputs": [],
   "source": [
    "#checking the occurence of different tweets\n",
    "\n",
    "df.groupby([df.index.date, 'TweetID']).count().plot()\n",
    "\n",
    "plt.ylabel('Number of Tweets')\n",
    "#draw the plot\n",
    "plt.show()"
   ]
  },
  {
   "cell_type": "code",
   "execution_count": null,
   "id": "0535582f",
   "metadata": {},
   "outputs": [],
   "source": [
    "# df.index\n",
    "# df['Year'] = df.index.year\n",
    "# df['month'] = df.index.month\n",
    "# df['day'] = df.index.day\n",
    "# df.head()"
   ]
  },
  {
   "cell_type": "code",
   "execution_count": null,
   "id": "969133b4",
   "metadata": {},
   "outputs": [],
   "source": [
    "# def plot_df(df, x, y, title=\"\", xlabel='Date', ylabel='Value', dpi=100):\n",
    "#     plt.figure(figsize=(16,5), dpi=dpi)\n",
    "#     plt.plot(x, y, color='tab:red')\n",
    "#     plt.gca().set(title=title, xlabel=xlabel, ylabel=ylabel)\n",
    "#     plt.show()\n",
    "    "
   ]
  },
  {
   "cell_type": "code",
   "execution_count": null,
   "id": "53a0ca51",
   "metadata": {},
   "outputs": [],
   "source": [
    "# df['TweetID'].plot()"
   ]
  },
  {
   "cell_type": "code",
   "execution_count": null,
   "id": "aa7dbab9",
   "metadata": {},
   "outputs": [],
   "source": [
    "#plot_df(df, x=df.day, title='Daily tweets')"
   ]
  },
  {
   "cell_type": "code",
   "execution_count": null,
   "id": "8466f9ab",
   "metadata": {},
   "outputs": [],
   "source": [
    "# counts = df.groupby(['date']).agg(len)\n",
    "\n",
    "#Tokens per Day\n"
   ]
  },
  {
   "cell_type": "code",
   "execution_count": null,
   "id": "9d4e39ae",
   "metadata": {},
   "outputs": [],
   "source": [
    "# plt.plot(counts)\n",
    "# plt.ylabel('Number of Tweets')\n",
    "# plt.xlabel('day')\n",
    "# #draw the plot\n",
    "# plt.show()\n",
    "#Tweets per second plotted against day"
   ]
  },
  {
   "cell_type": "code",
   "execution_count": null,
   "id": "0e82e1c9",
   "metadata": {},
   "outputs": [],
   "source": [
    "# plt.plot(df.groupby(['Date']).agg(len))\n",
    "# plt.ylabel('Number of Tweets')\n",
    "# plt.xlabel('day')\n",
    "# #draw the plot\n",
    "# plt.show()"
   ]
  },
  {
   "cell_type": "code",
   "execution_count": null,
   "id": "8f17c6a0",
   "metadata": {},
   "outputs": [],
   "source": [
    "# plt.plot(df.groupby(['month']).agg(len))\n",
    "# plt.ylabel('Number of Tweets')\n",
    "# plt.xlabel('month')\n",
    "# #draw the plot\n",
    "# plt.show()\n",
    "#weird result as i have data for one month but still weird as it should have some kind of dot for that month\n",
    "\n",
    "\n"
   ]
  },
  {
   "cell_type": "code",
   "execution_count": null,
   "id": "28098e35",
   "metadata": {},
   "outputs": [],
   "source": [
    "# counts1 = df.groupby(['day', 'Retweeted_ID']).size().plot()\n",
    "\n",
    "# default_x_ticks =df['day']\n",
    "# plt.xticks(default_x_ticks)\n",
    "# plt.show()\n",
    "\n",
    "#What kind of plot to use to talk about frequency of different type of tweets?\n",
    "#i can use subplot or maybe legend"
   ]
  },
  {
   "cell_type": "code",
   "execution_count": null,
   "id": "376f2fe3",
   "metadata": {},
   "outputs": [],
   "source": []
  },
  {
   "cell_type": "code",
   "execution_count": null,
   "id": "b13ab201",
   "metadata": {},
   "outputs": [],
   "source": []
  },
  {
   "cell_type": "code",
   "execution_count": null,
   "id": "06b5e9f4",
   "metadata": {},
   "outputs": [],
   "source": [
    "# df.assign(Hashtags=df.Hashtags.str.split(\",\")).explode('Hashtags')"
   ]
  },
  {
   "cell_type": "code",
   "execution_count": null,
   "id": "efe486ce",
   "metadata": {},
   "outputs": [],
   "source": []
  },
  {
   "cell_type": "code",
   "execution_count": null,
   "id": "bd88e1c5",
   "metadata": {},
   "outputs": [],
   "source": []
  }
 ],
 "metadata": {
  "kernelspec": {
   "display_name": "Python 3 (ipykernel)",
   "language": "python",
   "name": "python3"
  },
  "language_info": {
   "codemirror_mode": {
    "name": "ipython",
    "version": 3
   },
   "file_extension": ".py",
   "mimetype": "text/x-python",
   "name": "python",
   "nbconvert_exporter": "python",
   "pygments_lexer": "ipython3",
   "version": "3.9.12"
  },
  "vscode": {
   "interpreter": {
    "hash": "58a1da576b0589f1031c224acff547f12b528d048bcf4ca98de793aa49e49f74"
   }
  }
 },
 "nbformat": 4,
 "nbformat_minor": 5
}
