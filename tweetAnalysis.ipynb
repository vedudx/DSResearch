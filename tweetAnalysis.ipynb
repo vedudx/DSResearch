{
 "cells": [
  {
   "cell_type": "code",
   "execution_count": 3,
   "id": "28ae6fb1",
   "metadata": {},
   "outputs": [
    {
     "name": "stderr",
     "output_type": "stream",
     "text": [
      "/home/vedu_x/miniconda3/envs/DataScience/lib/python3.9/site-packages/scipy/__init__.py:146: UserWarning: A NumPy version >=1.16.5 and <1.23.0 is required for this version of SciPy (detected version 1.23.1\n",
      "  warnings.warn(f\"A NumPy version >={np_minversion} and <{np_maxversion}\"\n"
     ]
    }
   ],
   "source": [
    "import glob\n",
    "import sys\n",
    "import pandas as pd\n",
    "import numpy as np\n",
    "import datetime\n",
    "import matplotlib.pyplot as plt\n",
    "import seaborn as sns\n",
    "%load_ext autoreload\n",
    "%autoreload 1"
   ]
  },
  {
   "cell_type": "code",
   "execution_count": 4,
   "id": "50b3095f",
   "metadata": {},
   "outputs": [],
   "source": [
    "sns.set(rc={'figure.figsize':(11, 4)})\n"
   ]
  },
  {
   "cell_type": "code",
   "execution_count": 6,
   "id": "adbab187",
   "metadata": {},
   "outputs": [
    {
     "data": {
      "text/plain": [
       "CreatedAt          object\n",
       "CreatedAt_Full     object\n",
       "Epoch_Time        float64\n",
       "TweetID             int64\n",
       "UserID              int64\n",
       "Handle             object\n",
       "Followers           int64\n",
       "Friends             int64\n",
       "Hashtags           object\n",
       "Retweeted          object\n",
       "Retweeted_ID      float64\n",
       "Text               object\n",
       "Year                int64\n",
       "month               int64\n",
       "day                 int64\n",
       "date               object\n",
       "dtype: object"
      ]
     },
     "execution_count": 6,
     "metadata": {},
     "output_type": "execute_result"
    }
   ],
   "source": [
    "files = \"data/cleaned_data\"\n",
    "\n",
    "\n",
    "df = pd.read_csv(files+\"/2020-01-21mod.csv.gz\")\n",
    "\n",
    "#print(data_files)\n",
    "df.head()\n",
    "df.dtypes"
   ]
  },
  {
   "cell_type": "code",
   "execution_count": 7,
   "id": "438d91ee",
   "metadata": {},
   "outputs": [
    {
     "name": "stdout",
     "output_type": "stream",
     "text": [
      "['data/cleaned_data/2020-03-27mod.csv.gz', 'data/cleaned_data/2020-03-21mod.csv.gz', 'data/cleaned_data/2020-02-22mod.csv.gz', 'data/cleaned_data/2020-03-03mod.csv.gz', 'data/cleaned_data/2020-03-01mod.csv.gz', 'data/cleaned_data/2020-02-17mod.csv.gz', 'data/cleaned_data/2020-03-09mod.csv.gz', 'data/cleaned_data/2020-01-25mod.csv.gz', 'data/cleaned_data/2020-03-06mod.csv.gz', 'data/cleaned_data/2020-01-21mod.csv.gz', 'data/cleaned_data/2020-03-30mod.csv.gz', 'data/cleaned_data/2020-03-12mod.csv.gz', 'data/cleaned_data/2020-02-14mod.csv.gz', 'data/cleaned_data/2020-03-17mod.csv.gz', 'data/cleaned_data/2020-03-08mod.csv.gz', 'data/cleaned_data/2020-01-26mod.csv.gz', 'data/cleaned_data/2020-02-24mod.csv.gz', 'data/cleaned_data/2020-02-20mod.csv.gz', 'data/cleaned_data/2020-02-16mod.csv.gz', 'data/cleaned_data/2020-01-31mod.csv.gz', 'data/cleaned_data/2020-02-12mod.csv.gz', 'data/cleaned_data/2020-02-19mod.csv.gz', 'data/cleaned_data/zipflawdatamod.csv.gz', 'data/cleaned_data/2020-02-06mod.csv.gz', 'data/cleaned_data/2020-03-28mod.csv.gz', 'data/cleaned_data/2020-03-14mod.csv.gz', 'data/cleaned_data/2020-02-10mod.csv.gz', 'data/cleaned_data/2020-03-23mod.csv.gz', 'data/cleaned_data/2020-02-26mod.csv.gz', 'data/cleaned_data/2020-03-25mod.csv.gz', 'data/cleaned_data/2020-02-27mod.csv.gz', 'data/cleaned_data/2020-02-01mod.csv.gz', 'data/cleaned_data/2020-03-19mod.csv.gz', 'data/cleaned_data/2020-02-03mod.csv.gz', 'data/cleaned_data/2020-03-31mod.csv.gz', 'data/cleaned_data/2020-01-28mod.csv.gz', 'data/cleaned_data/2020-02-04mod.csv.gz', 'data/cleaned_data/2020-01-23mod.csv.gz', 'data/cleaned_data/2020-02-05mod.csv.gz', 'data/cleaned_data/2020-03-05mod.csv.gz', 'data/cleaned_data/2020-01-29mod.csv.gz', 'data/cleaned_data/2020-02-11mod.csv.gz', 'data/cleaned_data/2020-03-02mod.csv.gz']\n"
     ]
    }
   ],
   "source": [
    "data_files = glob.glob(files+\"/*.csv.gz\")\n",
    "print(data_files)"
   ]
  },
  {
   "cell_type": "code",
   "execution_count": 8,
   "id": "d6b672dc",
   "metadata": {},
   "outputs": [],
   "source": [
    "reqCols = ['TweetID', 'CreatedAt', 'CreatedAt_Full','Hashtags', 'date', 'Year', 'month', 'day']"
   ]
  },
  {
   "cell_type": "code",
   "execution_count": 9,
   "id": "d3b09bad",
   "metadata": {},
   "outputs": [
    {
     "data": {
      "text/html": [
       "<div>\n",
       "<style scoped>\n",
       "    .dataframe tbody tr th:only-of-type {\n",
       "        vertical-align: middle;\n",
       "    }\n",
       "\n",
       "    .dataframe tbody tr th {\n",
       "        vertical-align: top;\n",
       "    }\n",
       "\n",
       "    .dataframe thead th {\n",
       "        text-align: right;\n",
       "    }\n",
       "</style>\n",
       "<table border=\"1\" class=\"dataframe\">\n",
       "  <thead>\n",
       "    <tr style=\"text-align: right;\">\n",
       "      <th></th>\n",
       "      <th>CreatedAt</th>\n",
       "      <th>CreatedAt_Full</th>\n",
       "      <th>TweetID</th>\n",
       "      <th>Hashtags</th>\n",
       "      <th>Year</th>\n",
       "      <th>month</th>\n",
       "      <th>day</th>\n",
       "      <th>date</th>\n",
       "    </tr>\n",
       "  </thead>\n",
       "  <tbody>\n",
       "    <tr>\n",
       "      <th>0</th>\n",
       "      <td>2020-03-02</td>\n",
       "      <td>Mon Mar 02 00:14:48 +0000 2020</td>\n",
       "      <td>1234270898900930560</td>\n",
       "      <td>'coronavirus'</td>\n",
       "      <td>2020</td>\n",
       "      <td>3</td>\n",
       "      <td>2</td>\n",
       "      <td>2020-03-02 00:14:48</td>\n",
       "    </tr>\n",
       "    <tr>\n",
       "      <th>1</th>\n",
       "      <td>2020-03-02</td>\n",
       "      <td>Mon Mar 02 00:14:48 +0000 2020</td>\n",
       "      <td>1234270899890728968</td>\n",
       "      <td>'coronavirus'</td>\n",
       "      <td>2020</td>\n",
       "      <td>3</td>\n",
       "      <td>2</td>\n",
       "      <td>2020-03-02 00:14:48</td>\n",
       "    </tr>\n",
       "    <tr>\n",
       "      <th>2</th>\n",
       "      <td>2020-03-02</td>\n",
       "      <td>Mon Mar 02 00:14:48 +0000 2020</td>\n",
       "      <td>1234270899890728968</td>\n",
       "      <td>'laprensamiente'</td>\n",
       "      <td>2020</td>\n",
       "      <td>3</td>\n",
       "      <td>2</td>\n",
       "      <td>2020-03-02 00:14:48</td>\n",
       "    </tr>\n",
       "    <tr>\n",
       "      <th>3</th>\n",
       "      <td>2020-03-02</td>\n",
       "      <td>Mon Mar 02 00:14:48 +0000 2020</td>\n",
       "      <td>1234270899890728968</td>\n",
       "      <td>'argentinoculiao'</td>\n",
       "      <td>2020</td>\n",
       "      <td>3</td>\n",
       "      <td>2</td>\n",
       "      <td>2020-03-02 00:14:48</td>\n",
       "    </tr>\n",
       "    <tr>\n",
       "      <th>4</th>\n",
       "      <td>2020-03-02</td>\n",
       "      <td>Mon Mar 02 00:14:48 +0000 2020</td>\n",
       "      <td>1234270900092112897</td>\n",
       "      <td>'coronavirus'</td>\n",
       "      <td>2020</td>\n",
       "      <td>3</td>\n",
       "      <td>2</td>\n",
       "      <td>2020-03-02 00:14:48</td>\n",
       "    </tr>\n",
       "  </tbody>\n",
       "</table>\n",
       "</div>"
      ],
      "text/plain": [
       "    CreatedAt                  CreatedAt_Full              TweetID  \\\n",
       "0  2020-03-02  Mon Mar 02 00:14:48 +0000 2020  1234270898900930560   \n",
       "1  2020-03-02  Mon Mar 02 00:14:48 +0000 2020  1234270899890728968   \n",
       "2  2020-03-02  Mon Mar 02 00:14:48 +0000 2020  1234270899890728968   \n",
       "3  2020-03-02  Mon Mar 02 00:14:48 +0000 2020  1234270899890728968   \n",
       "4  2020-03-02  Mon Mar 02 00:14:48 +0000 2020  1234270900092112897   \n",
       "\n",
       "             Hashtags  Year  month  day                 date  \n",
       "0       'coronavirus'  2020      3    2  2020-03-02 00:14:48  \n",
       "1       'coronavirus'  2020      3    2  2020-03-02 00:14:48  \n",
       "2    'laprensamiente'  2020      3    2  2020-03-02 00:14:48  \n",
       "3   'argentinoculiao'  2020      3    2  2020-03-02 00:14:48  \n",
       "4       'coronavirus'  2020      3    2  2020-03-02 00:14:48  "
      ]
     },
     "execution_count": 9,
     "metadata": {},
     "output_type": "execute_result"
    }
   ],
   "source": [
    "# df = pd.concat((pd.read_csv(file,usecols=reqCols, engine='python') for file in data_files), ignore_index=True)\n",
    "#data for 21-01-2020\n",
    "all_df = []\n",
    "for file in data_files:\n",
    "#    df = pd.read_csv(file, )\n",
    "#gotta specify some dtypes and re-run pre-processing script while completing the concatenation\n",
    "    df = pd.read_csv(file, usecols=reqCols, dtype = {'TweetID': 'Int64', 'CreatedAt': object, 'CreatedAt_Full': object, 'Hashtags': object, 'date': object, 'year': 'Int64', 'month': 'Int64', 'day': 'Int64'}, lineterminator='\\n')\n",
    "    all_df.append(df)\n",
    "    \n",
    "df.head()\n"
   ]
  },
  {
   "cell_type": "code",
   "execution_count": 10,
   "id": "2c28e24e",
   "metadata": {},
   "outputs": [],
   "source": [
    "comb_df = pd.concat(all_df, ignore_index=True)\n",
    "del df  #free-ing memory\n",
    "del all_df #free-ing memory"
   ]
  },
  {
   "cell_type": "code",
   "execution_count": 11,
   "id": "313299ba",
   "metadata": {},
   "outputs": [
    {
     "data": {
      "text/html": [
       "<div>\n",
       "<style scoped>\n",
       "    .dataframe tbody tr th:only-of-type {\n",
       "        vertical-align: middle;\n",
       "    }\n",
       "\n",
       "    .dataframe tbody tr th {\n",
       "        vertical-align: top;\n",
       "    }\n",
       "\n",
       "    .dataframe thead th {\n",
       "        text-align: right;\n",
       "    }\n",
       "</style>\n",
       "<table border=\"1\" class=\"dataframe\">\n",
       "  <thead>\n",
       "    <tr style=\"text-align: right;\">\n",
       "      <th></th>\n",
       "      <th>CreatedAt</th>\n",
       "      <th>CreatedAt_Full</th>\n",
       "      <th>TweetID</th>\n",
       "      <th>Hashtags</th>\n",
       "      <th>Year</th>\n",
       "      <th>month</th>\n",
       "      <th>day</th>\n",
       "      <th>date</th>\n",
       "    </tr>\n",
       "  </thead>\n",
       "  <tbody>\n",
       "    <tr>\n",
       "      <th>16634783</th>\n",
       "      <td>2020-03-02</td>\n",
       "      <td>Mon Mar 02 23:00:44 +0000 2020</td>\n",
       "      <td>1234614645446598656</td>\n",
       "      <td>'covidー19'</td>\n",
       "      <td>2020</td>\n",
       "      <td>3</td>\n",
       "      <td>2</td>\n",
       "      <td>2020-03-02 23:00:44</td>\n",
       "    </tr>\n",
       "    <tr>\n",
       "      <th>16634784</th>\n",
       "      <td>2020-03-02</td>\n",
       "      <td>Mon Mar 02 23:00:37 +0000 2020</td>\n",
       "      <td>1234614619450167297</td>\n",
       "      <td>'coronavirus'</td>\n",
       "      <td>2020</td>\n",
       "      <td>3</td>\n",
       "      <td>2</td>\n",
       "      <td>2020-03-02 23:00:37</td>\n",
       "    </tr>\n",
       "    <tr>\n",
       "      <th>16634785</th>\n",
       "      <td>2020-03-02</td>\n",
       "      <td>Mon Mar 02 23:00:37 +0000 2020</td>\n",
       "      <td>1234614619450167297</td>\n",
       "      <td>'covidー19'</td>\n",
       "      <td>2020</td>\n",
       "      <td>3</td>\n",
       "      <td>2</td>\n",
       "      <td>2020-03-02 23:00:37</td>\n",
       "    </tr>\n",
       "    <tr>\n",
       "      <th>16634786</th>\n",
       "      <td>2020-03-02</td>\n",
       "      <td>Mon Mar 02 23:00:37 +0000 2020</td>\n",
       "      <td>1234614619450167297</td>\n",
       "      <td>'sarscov2'</td>\n",
       "      <td>2020</td>\n",
       "      <td>3</td>\n",
       "      <td>2</td>\n",
       "      <td>2020-03-02 23:00:37</td>\n",
       "    </tr>\n",
       "    <tr>\n",
       "      <th>16634787</th>\n",
       "      <td>2020-03-02</td>\n",
       "      <td>Mon Mar 02 23:00:07 +0000 2020</td>\n",
       "      <td>1234614492689887232</td>\n",
       "      <td>'covidー19'</td>\n",
       "      <td>2020</td>\n",
       "      <td>3</td>\n",
       "      <td>2</td>\n",
       "      <td>2020-03-02 23:00:07</td>\n",
       "    </tr>\n",
       "  </tbody>\n",
       "</table>\n",
       "</div>"
      ],
      "text/plain": [
       "           CreatedAt                  CreatedAt_Full              TweetID  \\\n",
       "16634783  2020-03-02  Mon Mar 02 23:00:44 +0000 2020  1234614645446598656   \n",
       "16634784  2020-03-02  Mon Mar 02 23:00:37 +0000 2020  1234614619450167297   \n",
       "16634785  2020-03-02  Mon Mar 02 23:00:37 +0000 2020  1234614619450167297   \n",
       "16634786  2020-03-02  Mon Mar 02 23:00:37 +0000 2020  1234614619450167297   \n",
       "16634787  2020-03-02  Mon Mar 02 23:00:07 +0000 2020  1234614492689887232   \n",
       "\n",
       "               Hashtags  Year  month  day                 date  \n",
       "16634783     'covidー19'  2020      3    2  2020-03-02 23:00:44  \n",
       "16634784  'coronavirus'  2020      3    2  2020-03-02 23:00:37  \n",
       "16634785     'covidー19'  2020      3    2  2020-03-02 23:00:37  \n",
       "16634786     'sarscov2'  2020      3    2  2020-03-02 23:00:37  \n",
       "16634787     'covidー19'  2020      3    2  2020-03-02 23:00:07  "
      ]
     },
     "execution_count": 11,
     "metadata": {},
     "output_type": "execute_result"
    }
   ],
   "source": [
    "#changing the index to date\n",
    "#bad move, set Index later when wanting to use while dropping other columns\n",
    "#comb_df = comb_df.set_index('CreatedAt')\n",
    "\n",
    "#df['Date'] = df['CreatedAt']\n",
    "#df.tail()\n",
    "comb_df.tail()"
   ]
  },
  {
   "cell_type": "code",
   "execution_count": 17,
   "id": "47435ccf",
   "metadata": {},
   "outputs": [],
   "source": [
    "# df['Date'] = pd.to_datetime(df['Date'])\n",
    "#df = df.set_index('Date')\n",
    "\n",
    "#df.date = pd.to_datetime(df.date)\n",
    "\n",
    "# df['Year'] = df.index.year\n",
    "# df['month'] = df.index.month\n",
    "# df['day'] = df.index.day\n",
    "\n",
    "# df = df.assign(Hashtags=df.Hashtags.str.split(\",\")).explode('Hashtags')\n",
    "# df.Hashtags = df.Hashtags.str.lower()\n",
    "# time = df.CreatedAt_Full.str.split(' ')\n",
    "# time.head()\n",
    "# df['date'] = df['CreatedAt'] + \" \"+ time.apply(lambda x:x[3])\n",
    "#Done all this in the pre-processing script"
   ]
  },
  {
   "cell_type": "code",
   "execution_count": 19,
   "id": "10f2d633",
   "metadata": {},
   "outputs": [
    {
     "data": {
      "text/html": [
       "<div>\n",
       "<style scoped>\n",
       "    .dataframe tbody tr th:only-of-type {\n",
       "        vertical-align: middle;\n",
       "    }\n",
       "\n",
       "    .dataframe tbody tr th {\n",
       "        vertical-align: top;\n",
       "    }\n",
       "\n",
       "    .dataframe thead th {\n",
       "        text-align: right;\n",
       "    }\n",
       "</style>\n",
       "<table border=\"1\" class=\"dataframe\">\n",
       "  <thead>\n",
       "    <tr style=\"text-align: right;\">\n",
       "      <th></th>\n",
       "      <th>noOfHashtags</th>\n",
       "    </tr>\n",
       "    <tr>\n",
       "      <th>CreatedAt</th>\n",
       "      <th></th>\n",
       "    </tr>\n",
       "  </thead>\n",
       "  <tbody>\n",
       "    <tr>\n",
       "      <th>2020-01-21</th>\n",
       "      <td>79</td>\n",
       "    </tr>\n",
       "    <tr>\n",
       "      <th>2020-01-23</th>\n",
       "      <td>101991</td>\n",
       "    </tr>\n",
       "    <tr>\n",
       "      <th>2020-01-25</th>\n",
       "      <td>483831</td>\n",
       "    </tr>\n",
       "    <tr>\n",
       "      <th>2020-01-26</th>\n",
       "      <td>538079</td>\n",
       "    </tr>\n",
       "    <tr>\n",
       "      <th>2020-01-28</th>\n",
       "      <td>371796</td>\n",
       "    </tr>\n",
       "    <tr>\n",
       "      <th>2020-01-29</th>\n",
       "      <td>564018</td>\n",
       "    </tr>\n",
       "    <tr>\n",
       "      <th>2020-01-31</th>\n",
       "      <td>646517</td>\n",
       "    </tr>\n",
       "    <tr>\n",
       "      <th>2020-02-01</th>\n",
       "      <td>277611</td>\n",
       "    </tr>\n",
       "    <tr>\n",
       "      <th>2020-02-03</th>\n",
       "      <td>370764</td>\n",
       "    </tr>\n",
       "    <tr>\n",
       "      <th>2020-02-04</th>\n",
       "      <td>455226</td>\n",
       "    </tr>\n",
       "    <tr>\n",
       "      <th>2020-02-05</th>\n",
       "      <td>398151</td>\n",
       "    </tr>\n",
       "    <tr>\n",
       "      <th>2020-02-06</th>\n",
       "      <td>422386</td>\n",
       "    </tr>\n",
       "    <tr>\n",
       "      <th>2020-02-10</th>\n",
       "      <td>413409</td>\n",
       "    </tr>\n",
       "    <tr>\n",
       "      <th>2020-02-11</th>\n",
       "      <td>418744</td>\n",
       "    </tr>\n",
       "    <tr>\n",
       "      <th>2020-02-12</th>\n",
       "      <td>403292</td>\n",
       "    </tr>\n",
       "    <tr>\n",
       "      <th>2020-02-14</th>\n",
       "      <td>412491</td>\n",
       "    </tr>\n",
       "    <tr>\n",
       "      <th>2020-02-16</th>\n",
       "      <td>371052</td>\n",
       "    </tr>\n",
       "    <tr>\n",
       "      <th>2020-02-17</th>\n",
       "      <td>417285</td>\n",
       "    </tr>\n",
       "    <tr>\n",
       "      <th>2020-02-19</th>\n",
       "      <td>320932</td>\n",
       "    </tr>\n",
       "    <tr>\n",
       "      <th>2020-02-20</th>\n",
       "      <td>415121</td>\n",
       "    </tr>\n",
       "    <tr>\n",
       "      <th>2020-02-22</th>\n",
       "      <td>427908</td>\n",
       "    </tr>\n",
       "    <tr>\n",
       "      <th>2020-02-24</th>\n",
       "      <td>366916</td>\n",
       "    </tr>\n",
       "    <tr>\n",
       "      <th>2020-02-26</th>\n",
       "      <td>320552</td>\n",
       "    </tr>\n",
       "    <tr>\n",
       "      <th>2020-02-27</th>\n",
       "      <td>298782</td>\n",
       "    </tr>\n",
       "    <tr>\n",
       "      <th>2020-03-01</th>\n",
       "      <td>754303</td>\n",
       "    </tr>\n",
       "    <tr>\n",
       "      <th>2020-03-02</th>\n",
       "      <td>263058</td>\n",
       "    </tr>\n",
       "    <tr>\n",
       "      <th>2020-03-03</th>\n",
       "      <td>920877</td>\n",
       "    </tr>\n",
       "    <tr>\n",
       "      <th>2020-03-05</th>\n",
       "      <td>354593</td>\n",
       "    </tr>\n",
       "    <tr>\n",
       "      <th>2020-03-06</th>\n",
       "      <td>462032</td>\n",
       "    </tr>\n",
       "    <tr>\n",
       "      <th>2020-03-08</th>\n",
       "      <td>370153</td>\n",
       "    </tr>\n",
       "    <tr>\n",
       "      <th>2020-03-09</th>\n",
       "      <td>332993</td>\n",
       "    </tr>\n",
       "    <tr>\n",
       "      <th>2020-03-12</th>\n",
       "      <td>478332</td>\n",
       "    </tr>\n",
       "    <tr>\n",
       "      <th>2020-03-14</th>\n",
       "      <td>295522</td>\n",
       "    </tr>\n",
       "    <tr>\n",
       "      <th>2020-03-17</th>\n",
       "      <td>275788</td>\n",
       "    </tr>\n",
       "    <tr>\n",
       "      <th>2020-03-19</th>\n",
       "      <td>288109</td>\n",
       "    </tr>\n",
       "    <tr>\n",
       "      <th>2020-03-21</th>\n",
       "      <td>303362</td>\n",
       "    </tr>\n",
       "    <tr>\n",
       "      <th>2020-03-23</th>\n",
       "      <td>372379</td>\n",
       "    </tr>\n",
       "    <tr>\n",
       "      <th>2020-03-25</th>\n",
       "      <td>379577</td>\n",
       "    </tr>\n",
       "    <tr>\n",
       "      <th>2020-03-27</th>\n",
       "      <td>402676</td>\n",
       "    </tr>\n",
       "    <tr>\n",
       "      <th>2020-03-28</th>\n",
       "      <td>377846</td>\n",
       "    </tr>\n",
       "    <tr>\n",
       "      <th>2020-03-30</th>\n",
       "      <td>386180</td>\n",
       "    </tr>\n",
       "    <tr>\n",
       "      <th>2020-03-31</th>\n",
       "      <td>400075</td>\n",
       "    </tr>\n",
       "  </tbody>\n",
       "</table>\n",
       "</div>"
      ],
      "text/plain": [
       "            noOfHashtags\n",
       "CreatedAt               \n",
       "2020-01-21            79\n",
       "2020-01-23        101991\n",
       "2020-01-25        483831\n",
       "2020-01-26        538079\n",
       "2020-01-28        371796\n",
       "2020-01-29        564018\n",
       "2020-01-31        646517\n",
       "2020-02-01        277611\n",
       "2020-02-03        370764\n",
       "2020-02-04        455226\n",
       "2020-02-05        398151\n",
       "2020-02-06        422386\n",
       "2020-02-10        413409\n",
       "2020-02-11        418744\n",
       "2020-02-12        403292\n",
       "2020-02-14        412491\n",
       "2020-02-16        371052\n",
       "2020-02-17        417285\n",
       "2020-02-19        320932\n",
       "2020-02-20        415121\n",
       "2020-02-22        427908\n",
       "2020-02-24        366916\n",
       "2020-02-26        320552\n",
       "2020-02-27        298782\n",
       "2020-03-01        754303\n",
       "2020-03-02        263058\n",
       "2020-03-03        920877\n",
       "2020-03-05        354593\n",
       "2020-03-06        462032\n",
       "2020-03-08        370153\n",
       "2020-03-09        332993\n",
       "2020-03-12        478332\n",
       "2020-03-14        295522\n",
       "2020-03-17        275788\n",
       "2020-03-19        288109\n",
       "2020-03-21        303362\n",
       "2020-03-23        372379\n",
       "2020-03-25        379577\n",
       "2020-03-27        402676\n",
       "2020-03-28        377846\n",
       "2020-03-30        386180\n",
       "2020-03-31        400075"
      ]
     },
     "execution_count": 19,
     "metadata": {},
     "output_type": "execute_result"
    }
   ],
   "source": [
    "#df['CreatedAt'].plot(linewidth=0.5)\n",
    "\n",
    "\n",
    "counts = comb_df.groupby(['CreatedAt']).agg(len)\n",
    "counts.rename(columns = {'CreatedAt_Full':'noOfHashtags'}, inplace = True)\n",
    "counts.drop(columns=['TweetID', 'Hashtags', 'Year', 'month', 'day', 'date'], inplace=True)\n",
    "counts\n",
    "\n"
   ]
  },
  {
   "cell_type": "code",
   "execution_count": 20,
   "id": "f0235033",
   "metadata": {},
   "outputs": [
    {
     "data": {
      "text/html": [
       "<div>\n",
       "<style scoped>\n",
       "    .dataframe tbody tr th:only-of-type {\n",
       "        vertical-align: middle;\n",
       "    }\n",
       "\n",
       "    .dataframe tbody tr th {\n",
       "        vertical-align: top;\n",
       "    }\n",
       "\n",
       "    .dataframe thead th {\n",
       "        text-align: right;\n",
       "    }\n",
       "</style>\n",
       "<table border=\"1\" class=\"dataframe\">\n",
       "  <thead>\n",
       "    <tr style=\"text-align: right;\">\n",
       "      <th></th>\n",
       "      <th>noOfHashtags</th>\n",
       "    </tr>\n",
       "    <tr>\n",
       "      <th>CreatedAt</th>\n",
       "      <th></th>\n",
       "    </tr>\n",
       "  </thead>\n",
       "  <tbody>\n",
       "    <tr>\n",
       "      <th>2020-03-25</th>\n",
       "      <td>379577</td>\n",
       "    </tr>\n",
       "    <tr>\n",
       "      <th>2020-03-27</th>\n",
       "      <td>402676</td>\n",
       "    </tr>\n",
       "    <tr>\n",
       "      <th>2020-03-28</th>\n",
       "      <td>377846</td>\n",
       "    </tr>\n",
       "    <tr>\n",
       "      <th>2020-03-30</th>\n",
       "      <td>386180</td>\n",
       "    </tr>\n",
       "    <tr>\n",
       "      <th>2020-03-31</th>\n",
       "      <td>400075</td>\n",
       "    </tr>\n",
       "  </tbody>\n",
       "</table>\n",
       "</div>"
      ],
      "text/plain": [
       "            noOfHashtags\n",
       "CreatedAt               \n",
       "2020-03-25        379577\n",
       "2020-03-27        402676\n",
       "2020-03-28        377846\n",
       "2020-03-30        386180\n",
       "2020-03-31        400075"
      ]
     },
     "execution_count": 20,
     "metadata": {},
     "output_type": "execute_result"
    }
   ],
   "source": [
    "counts.tail()"
   ]
  },
  {
   "cell_type": "code",
   "execution_count": 21,
   "id": "624dcb23",
   "metadata": {},
   "outputs": [
    {
     "data": {
      "text/html": [
       "<div>\n",
       "<style scoped>\n",
       "    .dataframe tbody tr th:only-of-type {\n",
       "        vertical-align: middle;\n",
       "    }\n",
       "\n",
       "    .dataframe tbody tr th {\n",
       "        vertical-align: top;\n",
       "    }\n",
       "\n",
       "    .dataframe thead th {\n",
       "        text-align: right;\n",
       "    }\n",
       "</style>\n",
       "<table border=\"1\" class=\"dataframe\">\n",
       "  <thead>\n",
       "    <tr style=\"text-align: right;\">\n",
       "      <th></th>\n",
       "      <th>noOfHashtags</th>\n",
       "    </tr>\n",
       "    <tr>\n",
       "      <th>CreatedAt</th>\n",
       "      <th></th>\n",
       "    </tr>\n",
       "  </thead>\n",
       "  <tbody>\n",
       "    <tr>\n",
       "      <th>2020-01-21</th>\n",
       "      <td>79</td>\n",
       "    </tr>\n",
       "    <tr>\n",
       "      <th>2020-01-23</th>\n",
       "      <td>101991</td>\n",
       "    </tr>\n",
       "    <tr>\n",
       "      <th>2020-01-25</th>\n",
       "      <td>483831</td>\n",
       "    </tr>\n",
       "    <tr>\n",
       "      <th>2020-01-26</th>\n",
       "      <td>538079</td>\n",
       "    </tr>\n",
       "    <tr>\n",
       "      <th>2020-01-28</th>\n",
       "      <td>371796</td>\n",
       "    </tr>\n",
       "  </tbody>\n",
       "</table>\n",
       "</div>"
      ],
      "text/plain": [
       "            noOfHashtags\n",
       "CreatedAt               \n",
       "2020-01-21            79\n",
       "2020-01-23        101991\n",
       "2020-01-25        483831\n",
       "2020-01-26        538079\n",
       "2020-01-28        371796"
      ]
     },
     "execution_count": 21,
     "metadata": {},
     "output_type": "execute_result"
    }
   ],
   "source": [
    "counts.head()"
   ]
  },
  {
   "cell_type": "code",
   "execution_count": 12,
   "id": "8965ed18",
   "metadata": {},
   "outputs": [],
   "source": [
    "hashAnalDf = comb_df.groupby(['Hashtags']).agg(len)"
   ]
  },
  {
   "cell_type": "code",
   "execution_count": 13,
   "id": "341feef0",
   "metadata": {},
   "outputs": [
    {
     "data": {
      "text/html": [
       "<div>\n",
       "<style scoped>\n",
       "    .dataframe tbody tr th:only-of-type {\n",
       "        vertical-align: middle;\n",
       "    }\n",
       "\n",
       "    .dataframe tbody tr th {\n",
       "        vertical-align: top;\n",
       "    }\n",
       "\n",
       "    .dataframe thead th {\n",
       "        text-align: right;\n",
       "    }\n",
       "</style>\n",
       "<table border=\"1\" class=\"dataframe\">\n",
       "  <thead>\n",
       "    <tr style=\"text-align: right;\">\n",
       "      <th></th>\n",
       "      <th>count</th>\n",
       "    </tr>\n",
       "    <tr>\n",
       "      <th>Hashtags</th>\n",
       "      <th></th>\n",
       "    </tr>\n",
       "  </thead>\n",
       "  <tbody>\n",
       "    <tr>\n",
       "      <th>'000milecannoncouldreachkeytargetsinchina'</th>\n",
       "      <td>1</td>\n",
       "    </tr>\n",
       "    <tr>\n",
       "      <th>'000passengers'</th>\n",
       "      <td>1</td>\n",
       "    </tr>\n",
       "    <tr>\n",
       "      <th>'007fam'</th>\n",
       "      <td>1</td>\n",
       "    </tr>\n",
       "    <tr>\n",
       "      <th>'007notimetodie'</th>\n",
       "      <td>19</td>\n",
       "    </tr>\n",
       "    <tr>\n",
       "      <th>'007ノー・タイム・トゥ・ダイ'</th>\n",
       "      <td>1</td>\n",
       "    </tr>\n",
       "  </tbody>\n",
       "</table>\n",
       "</div>"
      ],
      "text/plain": [
       "                                             count\n",
       "Hashtags                                          \n",
       " '000milecannoncouldreachkeytargetsinchina'      1\n",
       " '000passengers'                                 1\n",
       " '007fam'                                        1\n",
       " '007notimetodie'                               19\n",
       " '007ノー・タイム・トゥ・ダイ'                               1"
      ]
     },
     "execution_count": 13,
     "metadata": {},
     "output_type": "execute_result"
    }
   ],
   "source": [
    "\n",
    "hashAnalDf.drop(columns=['TweetID', 'Year', 'month', 'day', 'CreatedAt', 'date'], inplace=True)\n",
    "hashAnalDf.rename(columns = {'CreatedAt_Full':'count'}, inplace = True)\n",
    "hashAnalDf.head()\n",
    "#noOfHash = counts['noOfHashtags'].tolist()\n",
    "#noOfHash"
   ]
  },
  {
   "cell_type": "code",
   "execution_count": 14,
   "id": "8842dd9a",
   "metadata": {},
   "outputs": [],
   "source": [
    "zipfFileLoc = \"data/zipflaw_data/zipflawdata.csv.gz\"\n",
    "hashAnalDf.to_csv(zipfFileLoc, \n",
    "           compression=\"gzip\")"
   ]
  },
  {
   "cell_type": "code",
   "execution_count": 22,
   "id": "e185a0d0",
   "metadata": {},
   "outputs": [
    {
     "data": {
      "text/plain": [
       "Timestamp('2020-03-01 00:00:00')"
      ]
     },
     "execution_count": 22,
     "metadata": {},
     "output_type": "execute_result"
    }
   ],
   "source": [
    "#counts.loc[\"2020-03-01\"].index\n",
    "pd.to_datetime(\"2020-03-01\", format='%Y-%m-%d')\n",
    "\n",
    "#counts.index"
   ]
  },
  {
   "cell_type": "code",
   "execution_count": 23,
   "id": "7a6e4b1d",
   "metadata": {},
   "outputs": [
    {
     "ename": "ConversionError",
     "evalue": "Failed to convert value(s) to axis units: Timestamp('2020-02-01 00:00:00')",
     "output_type": "error",
     "traceback": [
      "\u001b[0;31m---------------------------------------------------------------------------\u001b[0m",
      "\u001b[0;31mTypeError\u001b[0m                                 Traceback (most recent call last)",
      "File \u001b[0;32m~/miniconda3/envs/DataScience/lib/python3.9/site-packages/matplotlib/axis.py:1506\u001b[0m, in \u001b[0;36mAxis.convert_units\u001b[0;34m(self, x)\u001b[0m\n\u001b[1;32m   1505\u001b[0m \u001b[39mtry\u001b[39;00m:\n\u001b[0;32m-> 1506\u001b[0m     ret \u001b[39m=\u001b[39m \u001b[39mself\u001b[39;49m\u001b[39m.\u001b[39;49mconverter\u001b[39m.\u001b[39;49mconvert(x, \u001b[39mself\u001b[39;49m\u001b[39m.\u001b[39;49munits, \u001b[39mself\u001b[39;49m)\n\u001b[1;32m   1507\u001b[0m \u001b[39mexcept\u001b[39;00m \u001b[39mException\u001b[39;00m \u001b[39mas\u001b[39;00m e:\n",
      "File \u001b[0;32m~/miniconda3/envs/DataScience/lib/python3.9/site-packages/matplotlib/category.py:68\u001b[0m, in \u001b[0;36mStrCategoryConverter.convert\u001b[0;34m(value, unit, axis)\u001b[0m\n\u001b[1;32m     67\u001b[0m \u001b[39m# force an update so it also does type checking\u001b[39;00m\n\u001b[0;32m---> 68\u001b[0m unit\u001b[39m.\u001b[39;49mupdate(values)\n\u001b[1;32m     69\u001b[0m \u001b[39mreturn\u001b[39;00m np\u001b[39m.\u001b[39mvectorize(unit\u001b[39m.\u001b[39m_mapping\u001b[39m.\u001b[39m\u001b[39m__getitem__\u001b[39m, otypes\u001b[39m=\u001b[39m[\u001b[39mfloat\u001b[39m])(values)\n",
      "File \u001b[0;32m~/miniconda3/envs/DataScience/lib/python3.9/site-packages/matplotlib/category.py:227\u001b[0m, in \u001b[0;36mUnitData.update\u001b[0;34m(self, data)\u001b[0m\n\u001b[1;32m    225\u001b[0m \u001b[39mfor\u001b[39;00m val \u001b[39min\u001b[39;00m OrderedDict\u001b[39m.\u001b[39mfromkeys(data):\n\u001b[1;32m    226\u001b[0m     \u001b[39m# OrderedDict just iterates over unique values in data.\u001b[39;00m\n\u001b[0;32m--> 227\u001b[0m     _api\u001b[39m.\u001b[39;49mcheck_isinstance((\u001b[39mstr\u001b[39;49m, \u001b[39mbytes\u001b[39;49m), value\u001b[39m=\u001b[39;49mval)\n\u001b[1;32m    228\u001b[0m     \u001b[39mif\u001b[39;00m convertible:\n\u001b[1;32m    229\u001b[0m         \u001b[39m# this will only be called so long as convertible is True.\u001b[39;00m\n",
      "File \u001b[0;32m~/miniconda3/envs/DataScience/lib/python3.9/site-packages/matplotlib/_api/__init__.py:93\u001b[0m, in \u001b[0;36mcheck_isinstance\u001b[0;34m(_types, **kwargs)\u001b[0m\n\u001b[1;32m     92\u001b[0m     names\u001b[39m.\u001b[39mappend(\u001b[39m\"\u001b[39m\u001b[39mNone\u001b[39m\u001b[39m\"\u001b[39m)\n\u001b[0;32m---> 93\u001b[0m \u001b[39mraise\u001b[39;00m \u001b[39mTypeError\u001b[39;00m(\n\u001b[1;32m     94\u001b[0m     \u001b[39m\"\u001b[39m\u001b[39m{!r}\u001b[39;00m\u001b[39m must be an instance of \u001b[39m\u001b[39m{}\u001b[39;00m\u001b[39m, not a \u001b[39m\u001b[39m{}\u001b[39;00m\u001b[39m\"\u001b[39m\u001b[39m.\u001b[39mformat(\n\u001b[1;32m     95\u001b[0m         k,\n\u001b[1;32m     96\u001b[0m         \u001b[39m\"\u001b[39m\u001b[39m, \u001b[39m\u001b[39m\"\u001b[39m\u001b[39m.\u001b[39mjoin(names[:\u001b[39m-\u001b[39m\u001b[39m1\u001b[39m]) \u001b[39m+\u001b[39m \u001b[39m\"\u001b[39m\u001b[39m or \u001b[39m\u001b[39m\"\u001b[39m \u001b[39m+\u001b[39m names[\u001b[39m-\u001b[39m\u001b[39m1\u001b[39m]\n\u001b[1;32m     97\u001b[0m         \u001b[39mif\u001b[39;00m \u001b[39mlen\u001b[39m(names) \u001b[39m>\u001b[39m \u001b[39m1\u001b[39m \u001b[39melse\u001b[39;00m names[\u001b[39m0\u001b[39m],\n\u001b[1;32m     98\u001b[0m         type_name(\u001b[39mtype\u001b[39m(v))))\n",
      "\u001b[0;31mTypeError\u001b[0m: 'value' must be an instance of str or bytes, not a pandas._libs.tslibs.timestamps.Timestamp",
      "\nThe above exception was the direct cause of the following exception:\n",
      "\u001b[0;31mConversionError\u001b[0m                           Traceback (most recent call last)",
      "\u001b[1;32m/home/vedu_x/DataScienceResearch/DSResearch/tweetAnalysis.ipynb Cell 17\u001b[0m in \u001b[0;36m<cell line: 8>\u001b[0;34m()\u001b[0m\n\u001b[1;32m      <a href='vscode-notebook-cell://wsl%2Bubuntu/home/vedu_x/DataScienceResearch/DSResearch/tweetAnalysis.ipynb#X25sdnNjb2RlLXJlbW90ZQ%3D%3D?line=4'>5</a>\u001b[0m plt\u001b[39m.\u001b[39mylabel(\u001b[39m'\u001b[39m\u001b[39mHashtags per second\u001b[39m\u001b[39m'\u001b[39m, fontsize\u001b[39m=\u001b[39m\u001b[39m15\u001b[39m)\n\u001b[1;32m      <a href='vscode-notebook-cell://wsl%2Bubuntu/home/vedu_x/DataScienceResearch/DSResearch/tweetAnalysis.ipynb#X25sdnNjb2RlLXJlbW90ZQ%3D%3D?line=5'>6</a>\u001b[0m plt\u001b[39m.\u001b[39mxlabel(\u001b[39m'\u001b[39m\u001b[39mTime(Days)\u001b[39m\u001b[39m'\u001b[39m, fontsize\u001b[39m=\u001b[39m\u001b[39m15\u001b[39m)\n\u001b[0;32m----> <a href='vscode-notebook-cell://wsl%2Bubuntu/home/vedu_x/DataScienceResearch/DSResearch/tweetAnalysis.ipynb#X25sdnNjb2RlLXJlbW90ZQ%3D%3D?line=7'>8</a>\u001b[0m plt\u001b[39m.\u001b[39;49maxvline(x \u001b[39m=\u001b[39;49m pd\u001b[39m.\u001b[39;49mto_datetime(\u001b[39m\"\u001b[39;49m\u001b[39m2020-02-01\u001b[39;49m\u001b[39m\"\u001b[39;49m, \u001b[39mformat\u001b[39;49m\u001b[39m=\u001b[39;49m\u001b[39m'\u001b[39;49m\u001b[39m%\u001b[39;49m\u001b[39mY-\u001b[39;49m\u001b[39m%\u001b[39;49m\u001b[39mm-\u001b[39;49m\u001b[39m%d\u001b[39;49;00m\u001b[39m'\u001b[39;49m), color\u001b[39m=\u001b[39;49m\u001b[39m'\u001b[39;49m\u001b[39mr\u001b[39;49m\u001b[39m'\u001b[39;49m, linestyle\u001b[39m=\u001b[39;49m\u001b[39m'\u001b[39;49m\u001b[39m--\u001b[39;49m\u001b[39m'\u001b[39;49m) \u001b[39m# 1st of February\u001b[39;00m\n\u001b[1;32m      <a href='vscode-notebook-cell://wsl%2Bubuntu/home/vedu_x/DataScienceResearch/DSResearch/tweetAnalysis.ipynb#X25sdnNjb2RlLXJlbW90ZQ%3D%3D?line=8'>9</a>\u001b[0m plt\u001b[39m.\u001b[39maxvline(x \u001b[39m=\u001b[39m pd\u001b[39m.\u001b[39mto_datetime(\u001b[39m\"\u001b[39m\u001b[39m2020-02-28\u001b[39m\u001b[39m\"\u001b[39m, \u001b[39mformat\u001b[39m\u001b[39m=\u001b[39m\u001b[39m'\u001b[39m\u001b[39m%\u001b[39m\u001b[39mY-\u001b[39m\u001b[39m%\u001b[39m\u001b[39mm-\u001b[39m\u001b[39m%d\u001b[39;00m\u001b[39m'\u001b[39m), color\u001b[39m=\u001b[39m\u001b[39m'\u001b[39m\u001b[39mr\u001b[39m\u001b[39m'\u001b[39m, linestyle\u001b[39m=\u001b[39m\u001b[39m'\u001b[39m\u001b[39m--\u001b[39m\u001b[39m'\u001b[39m) \u001b[39m# 28th of February\u001b[39;00m\n\u001b[1;32m     <a href='vscode-notebook-cell://wsl%2Bubuntu/home/vedu_x/DataScienceResearch/DSResearch/tweetAnalysis.ipynb#X25sdnNjb2RlLXJlbW90ZQ%3D%3D?line=9'>10</a>\u001b[0m \u001b[39m#plt.axvline(x = March_April_indices[41], color='r', linestyle='--') # 25th of April\u001b[39;00m\n",
      "File \u001b[0;32m~/miniconda3/envs/DataScience/lib/python3.9/site-packages/matplotlib/pyplot.py:2373\u001b[0m, in \u001b[0;36maxvline\u001b[0;34m(x, ymin, ymax, **kwargs)\u001b[0m\n\u001b[1;32m   2371\u001b[0m \u001b[39m@_copy_docstring_and_deprecators\u001b[39m(Axes\u001b[39m.\u001b[39maxvline)\n\u001b[1;32m   2372\u001b[0m \u001b[39mdef\u001b[39;00m \u001b[39maxvline\u001b[39m(x\u001b[39m=\u001b[39m\u001b[39m0\u001b[39m, ymin\u001b[39m=\u001b[39m\u001b[39m0\u001b[39m, ymax\u001b[39m=\u001b[39m\u001b[39m1\u001b[39m, \u001b[39m*\u001b[39m\u001b[39m*\u001b[39mkwargs):\n\u001b[0;32m-> 2373\u001b[0m     \u001b[39mreturn\u001b[39;00m gca()\u001b[39m.\u001b[39;49maxvline(x\u001b[39m=\u001b[39;49mx, ymin\u001b[39m=\u001b[39;49mymin, ymax\u001b[39m=\u001b[39;49mymax, \u001b[39m*\u001b[39;49m\u001b[39m*\u001b[39;49mkwargs)\n",
      "File \u001b[0;32m~/miniconda3/envs/DataScience/lib/python3.9/site-packages/matplotlib/axes/_axes.py:800\u001b[0m, in \u001b[0;36mAxes.axvline\u001b[0;34m(self, x, ymin, ymax, **kwargs)\u001b[0m\n\u001b[1;32m    797\u001b[0m xmin, xmax \u001b[39m=\u001b[39m \u001b[39mself\u001b[39m\u001b[39m.\u001b[39mget_xbound()\n\u001b[1;32m    799\u001b[0m \u001b[39m# Strip away the units for comparison with non-unitized bounds.\u001b[39;00m\n\u001b[0;32m--> 800\u001b[0m xx, \u001b[39m=\u001b[39m \u001b[39mself\u001b[39;49m\u001b[39m.\u001b[39;49m_process_unit_info([(\u001b[39m\"\u001b[39;49m\u001b[39mx\u001b[39;49m\u001b[39m\"\u001b[39;49m, x)], kwargs)\n\u001b[1;32m    801\u001b[0m scalex \u001b[39m=\u001b[39m (xx \u001b[39m<\u001b[39m xmin) \u001b[39mor\u001b[39;00m (xx \u001b[39m>\u001b[39m xmax)\n\u001b[1;32m    803\u001b[0m trans \u001b[39m=\u001b[39m \u001b[39mself\u001b[39m\u001b[39m.\u001b[39mget_xaxis_transform(which\u001b[39m=\u001b[39m\u001b[39m'\u001b[39m\u001b[39mgrid\u001b[39m\u001b[39m'\u001b[39m)\n",
      "File \u001b[0;32m~/miniconda3/envs/DataScience/lib/python3.9/site-packages/matplotlib/axes/_base.py:2539\u001b[0m, in \u001b[0;36m_AxesBase._process_unit_info\u001b[0;34m(self, datasets, kwargs, convert)\u001b[0m\n\u001b[1;32m   2537\u001b[0m             \u001b[39mif\u001b[39;00m dataset_axis_name \u001b[39m==\u001b[39m axis_name \u001b[39mand\u001b[39;00m data \u001b[39mis\u001b[39;00m \u001b[39mnot\u001b[39;00m \u001b[39mNone\u001b[39;00m:\n\u001b[1;32m   2538\u001b[0m                 axis\u001b[39m.\u001b[39mupdate_units(data)\n\u001b[0;32m-> 2539\u001b[0m \u001b[39mreturn\u001b[39;00m [axis_map[axis_name]\u001b[39m.\u001b[39mconvert_units(data)\n\u001b[1;32m   2540\u001b[0m         \u001b[39mif\u001b[39;00m convert \u001b[39mand\u001b[39;00m data \u001b[39mis\u001b[39;00m \u001b[39mnot\u001b[39;00m \u001b[39mNone\u001b[39;00m \u001b[39melse\u001b[39;00m data\n\u001b[1;32m   2541\u001b[0m         \u001b[39mfor\u001b[39;00m axis_name, data \u001b[39min\u001b[39;00m datasets]\n",
      "File \u001b[0;32m~/miniconda3/envs/DataScience/lib/python3.9/site-packages/matplotlib/axes/_base.py:2539\u001b[0m, in \u001b[0;36m<listcomp>\u001b[0;34m(.0)\u001b[0m\n\u001b[1;32m   2537\u001b[0m             \u001b[39mif\u001b[39;00m dataset_axis_name \u001b[39m==\u001b[39m axis_name \u001b[39mand\u001b[39;00m data \u001b[39mis\u001b[39;00m \u001b[39mnot\u001b[39;00m \u001b[39mNone\u001b[39;00m:\n\u001b[1;32m   2538\u001b[0m                 axis\u001b[39m.\u001b[39mupdate_units(data)\n\u001b[0;32m-> 2539\u001b[0m \u001b[39mreturn\u001b[39;00m [axis_map[axis_name]\u001b[39m.\u001b[39;49mconvert_units(data)\n\u001b[1;32m   2540\u001b[0m         \u001b[39mif\u001b[39;00m convert \u001b[39mand\u001b[39;00m data \u001b[39mis\u001b[39;00m \u001b[39mnot\u001b[39;00m \u001b[39mNone\u001b[39;00m \u001b[39melse\u001b[39;00m data\n\u001b[1;32m   2541\u001b[0m         \u001b[39mfor\u001b[39;00m axis_name, data \u001b[39min\u001b[39;00m datasets]\n",
      "File \u001b[0;32m~/miniconda3/envs/DataScience/lib/python3.9/site-packages/matplotlib/axis.py:1508\u001b[0m, in \u001b[0;36mAxis.convert_units\u001b[0;34m(self, x)\u001b[0m\n\u001b[1;32m   1506\u001b[0m     ret \u001b[39m=\u001b[39m \u001b[39mself\u001b[39m\u001b[39m.\u001b[39mconverter\u001b[39m.\u001b[39mconvert(x, \u001b[39mself\u001b[39m\u001b[39m.\u001b[39munits, \u001b[39mself\u001b[39m)\n\u001b[1;32m   1507\u001b[0m \u001b[39mexcept\u001b[39;00m \u001b[39mException\u001b[39;00m \u001b[39mas\u001b[39;00m e:\n\u001b[0;32m-> 1508\u001b[0m     \u001b[39mraise\u001b[39;00m munits\u001b[39m.\u001b[39mConversionError(\u001b[39m'\u001b[39m\u001b[39mFailed to convert value(s) to axis \u001b[39m\u001b[39m'\u001b[39m\n\u001b[1;32m   1509\u001b[0m                                  \u001b[39mf\u001b[39m\u001b[39m'\u001b[39m\u001b[39munits: \u001b[39m\u001b[39m{\u001b[39;00mx\u001b[39m!r}\u001b[39;00m\u001b[39m'\u001b[39m) \u001b[39mfrom\u001b[39;00m \u001b[39me\u001b[39;00m\n\u001b[1;32m   1510\u001b[0m \u001b[39mreturn\u001b[39;00m ret\n",
      "\u001b[0;31mConversionError\u001b[0m: Failed to convert value(s) to axis units: Timestamp('2020-02-01 00:00:00')"
     ]
    },
    {
     "data": {
      "image/png": "[encoded data removed]",
      "text/plain": [
       "<Figure size 792x288 with 1 Axes>"
      ]
     },
     "metadata": {},
     "output_type": "display_data"
    }
   ],
   "source": [
    "#ThreeMonthDays = list(range(21, 31+1))+list(range(1, 28+1))+ list(range(1, 31+1))\n",
    "#have to debug this\n",
    "#it used to be bug free earlier\n",
    "#to find number of hashtags per second\n",
    "plt.plot(counts['noOfHashtags'].div(60*60*24), \"o-\", markersize=4)\n",
    "plt.ylabel('Hashtags per second', fontsize=15)\n",
    "plt.xlabel('Time(Days)', fontsize=15)\n",
    "\n",
    "plt.axvline(x = pd.to_datetime(\"2020-02-01\", format='%Y-%m-%d'), color='r', linestyle='--') # 1st of February\n",
    "plt.axvline(x = pd.to_datetime(\"2020-02-28\", format='%Y-%m-%d'), color='r', linestyle='--') # 28th of February\n",
    "#plt.axvline(x = March_April_indices[41], color='r', linestyle='--') # 25th of April\n",
    "plt.yticks(np.arange(0, 14, 4), fontsize = 12)\n",
    "plt.xticks(counts.index[::5], counts.index.day[::5], fontsize=12)\n",
    "plt.figtext(0.9, 0.9, \"b=1d\", wrap = True, horizontalalignment = 'center', fontsize = 15) \n",
    "plt.figtext(0.25, -0.05, \"Feb\", wrap = True, horizontalalignment = 'center', fontsize = 18)\n",
    "plt.figtext(0.75, -0.05, \"Mar\", wrap = True, horizontalalignment = 'center', fontsize = 18)\n",
    "plt.xlim(pd.to_datetime(\"2020-01-31\", format='%Y-%m-%d'), pd.to_datetime(\"2020-03-02\", format='%Y-%m-%d'))  #To be used later when have more data to focus on these months :\n",
    "#draw the plot\n",
    "plt.tight_layout()\n",
    "plt.savefig('image4.png')\n",
    "plt.show()\n",
    "#Tokens per Day"
   ]
  },
  {
   "cell_type": "code",
   "execution_count": 24,
   "id": "039e0f9b",
   "metadata": {},
   "outputs": [
    {
     "ename": "ConversionError",
     "evalue": "Failed to convert value(s) to axis units: Timestamp('2020-02-01 00:00:00')",
     "output_type": "error",
     "traceback": [
      "\u001b[0;31m---------------------------------------------------------------------------\u001b[0m",
      "\u001b[0;31mTypeError\u001b[0m                                 Traceback (most recent call last)",
      "File \u001b[0;32m~/miniconda3/envs/DataScience/lib/python3.9/site-packages/matplotlib/axis.py:1506\u001b[0m, in \u001b[0;36mAxis.convert_units\u001b[0;34m(self, x)\u001b[0m\n\u001b[1;32m   1505\u001b[0m \u001b[39mtry\u001b[39;00m:\n\u001b[0;32m-> 1506\u001b[0m     ret \u001b[39m=\u001b[39m \u001b[39mself\u001b[39;49m\u001b[39m.\u001b[39;49mconverter\u001b[39m.\u001b[39;49mconvert(x, \u001b[39mself\u001b[39;49m\u001b[39m.\u001b[39;49munits, \u001b[39mself\u001b[39;49m)\n\u001b[1;32m   1507\u001b[0m \u001b[39mexcept\u001b[39;00m \u001b[39mException\u001b[39;00m \u001b[39mas\u001b[39;00m e:\n",
      "File \u001b[0;32m~/miniconda3/envs/DataScience/lib/python3.9/site-packages/matplotlib/category.py:68\u001b[0m, in \u001b[0;36mStrCategoryConverter.convert\u001b[0;34m(value, unit, axis)\u001b[0m\n\u001b[1;32m     67\u001b[0m \u001b[39m# force an update so it also does type checking\u001b[39;00m\n\u001b[0;32m---> 68\u001b[0m unit\u001b[39m.\u001b[39;49mupdate(values)\n\u001b[1;32m     69\u001b[0m \u001b[39mreturn\u001b[39;00m np\u001b[39m.\u001b[39mvectorize(unit\u001b[39m.\u001b[39m_mapping\u001b[39m.\u001b[39m\u001b[39m__getitem__\u001b[39m, otypes\u001b[39m=\u001b[39m[\u001b[39mfloat\u001b[39m])(values)\n",
      "File \u001b[0;32m~/miniconda3/envs/DataScience/lib/python3.9/site-packages/matplotlib/category.py:227\u001b[0m, in \u001b[0;36mUnitData.update\u001b[0;34m(self, data)\u001b[0m\n\u001b[1;32m    225\u001b[0m \u001b[39mfor\u001b[39;00m val \u001b[39min\u001b[39;00m OrderedDict\u001b[39m.\u001b[39mfromkeys(data):\n\u001b[1;32m    226\u001b[0m     \u001b[39m# OrderedDict just iterates over unique values in data.\u001b[39;00m\n\u001b[0;32m--> 227\u001b[0m     _api\u001b[39m.\u001b[39;49mcheck_isinstance((\u001b[39mstr\u001b[39;49m, \u001b[39mbytes\u001b[39;49m), value\u001b[39m=\u001b[39;49mval)\n\u001b[1;32m    228\u001b[0m     \u001b[39mif\u001b[39;00m convertible:\n\u001b[1;32m    229\u001b[0m         \u001b[39m# this will only be called so long as convertible is True.\u001b[39;00m\n",
      "File \u001b[0;32m~/miniconda3/envs/DataScience/lib/python3.9/site-packages/matplotlib/_api/__init__.py:93\u001b[0m, in \u001b[0;36mcheck_isinstance\u001b[0;34m(_types, **kwargs)\u001b[0m\n\u001b[1;32m     92\u001b[0m     names\u001b[39m.\u001b[39mappend(\u001b[39m\"\u001b[39m\u001b[39mNone\u001b[39m\u001b[39m\"\u001b[39m)\n\u001b[0;32m---> 93\u001b[0m \u001b[39mraise\u001b[39;00m \u001b[39mTypeError\u001b[39;00m(\n\u001b[1;32m     94\u001b[0m     \u001b[39m\"\u001b[39m\u001b[39m{!r}\u001b[39;00m\u001b[39m must be an instance of \u001b[39m\u001b[39m{}\u001b[39;00m\u001b[39m, not a \u001b[39m\u001b[39m{}\u001b[39;00m\u001b[39m\"\u001b[39m\u001b[39m.\u001b[39mformat(\n\u001b[1;32m     95\u001b[0m         k,\n\u001b[1;32m     96\u001b[0m         \u001b[39m\"\u001b[39m\u001b[39m, \u001b[39m\u001b[39m\"\u001b[39m\u001b[39m.\u001b[39mjoin(names[:\u001b[39m-\u001b[39m\u001b[39m1\u001b[39m]) \u001b[39m+\u001b[39m \u001b[39m\"\u001b[39m\u001b[39m or \u001b[39m\u001b[39m\"\u001b[39m \u001b[39m+\u001b[39m names[\u001b[39m-\u001b[39m\u001b[39m1\u001b[39m]\n\u001b[1;32m     97\u001b[0m         \u001b[39mif\u001b[39;00m \u001b[39mlen\u001b[39m(names) \u001b[39m>\u001b[39m \u001b[39m1\u001b[39m \u001b[39melse\u001b[39;00m names[\u001b[39m0\u001b[39m],\n\u001b[1;32m     98\u001b[0m         type_name(\u001b[39mtype\u001b[39m(v))))\n",
      "\u001b[0;31mTypeError\u001b[0m: 'value' must be an instance of str or bytes, not a pandas._libs.tslibs.timestamps.Timestamp",
      "\nThe above exception was the direct cause of the following exception:\n",
      "\u001b[0;31mConversionError\u001b[0m                           Traceback (most recent call last)",
      "\u001b[1;32m/home/vedu_x/DataScienceResearch/DSResearch/tweetAnalysis.ipynb Cell 18\u001b[0m in \u001b[0;36m<cell line: 9>\u001b[0;34m()\u001b[0m\n\u001b[1;32m      <a href='vscode-notebook-cell://wsl%2Bubuntu/home/vedu_x/DataScienceResearch/DSResearch/tweetAnalysis.ipynb#X26sdnNjb2RlLXJlbW90ZQ%3D%3D?line=4'>5</a>\u001b[0m plt\u001b[39m.\u001b[39mylabel(\u001b[39m'\u001b[39m\u001b[39mHashtags per second\u001b[39m\u001b[39m'\u001b[39m, fontsize\u001b[39m=\u001b[39m\u001b[39m15\u001b[39m)\n\u001b[1;32m      <a href='vscode-notebook-cell://wsl%2Bubuntu/home/vedu_x/DataScienceResearch/DSResearch/tweetAnalysis.ipynb#X26sdnNjb2RlLXJlbW90ZQ%3D%3D?line=5'>6</a>\u001b[0m plt\u001b[39m.\u001b[39mxlabel(\u001b[39m'\u001b[39m\u001b[39mTime(Months)\u001b[39m\u001b[39m'\u001b[39m, fontsize\u001b[39m=\u001b[39m\u001b[39m15\u001b[39m)\n\u001b[0;32m----> <a href='vscode-notebook-cell://wsl%2Bubuntu/home/vedu_x/DataScienceResearch/DSResearch/tweetAnalysis.ipynb#X26sdnNjb2RlLXJlbW90ZQ%3D%3D?line=8'>9</a>\u001b[0m plt\u001b[39m.\u001b[39;49maxvline(x \u001b[39m=\u001b[39;49m pd\u001b[39m.\u001b[39;49mto_datetime(\u001b[39m\"\u001b[39;49m\u001b[39m2020-02-01\u001b[39;49m\u001b[39m\"\u001b[39;49m, \u001b[39mformat\u001b[39;49m\u001b[39m=\u001b[39;49m\u001b[39m'\u001b[39;49m\u001b[39m%\u001b[39;49m\u001b[39mY-\u001b[39;49m\u001b[39m%\u001b[39;49m\u001b[39mm-\u001b[39;49m\u001b[39m%d\u001b[39;49;00m\u001b[39m'\u001b[39;49m), color\u001b[39m=\u001b[39;49m\u001b[39m'\u001b[39;49m\u001b[39mr\u001b[39;49m\u001b[39m'\u001b[39;49m, linestyle\u001b[39m=\u001b[39;49m\u001b[39m'\u001b[39;49m\u001b[39m--\u001b[39;49m\u001b[39m'\u001b[39;49m) \u001b[39m# 1st of February\u001b[39;00m\n\u001b[1;32m     <a href='vscode-notebook-cell://wsl%2Bubuntu/home/vedu_x/DataScienceResearch/DSResearch/tweetAnalysis.ipynb#X26sdnNjb2RlLXJlbW90ZQ%3D%3D?line=9'>10</a>\u001b[0m plt\u001b[39m.\u001b[39maxvline(x \u001b[39m=\u001b[39m pd\u001b[39m.\u001b[39mto_datetime(\u001b[39m\"\u001b[39m\u001b[39m2020-02-28\u001b[39m\u001b[39m\"\u001b[39m, \u001b[39mformat\u001b[39m\u001b[39m=\u001b[39m\u001b[39m'\u001b[39m\u001b[39m%\u001b[39m\u001b[39mY-\u001b[39m\u001b[39m%\u001b[39m\u001b[39mm-\u001b[39m\u001b[39m%d\u001b[39;00m\u001b[39m'\u001b[39m), color\u001b[39m=\u001b[39m\u001b[39m'\u001b[39m\u001b[39mr\u001b[39m\u001b[39m'\u001b[39m, linestyle\u001b[39m=\u001b[39m\u001b[39m'\u001b[39m\u001b[39m--\u001b[39m\u001b[39m'\u001b[39m) \u001b[39m# 28th of February\u001b[39;00m\n\u001b[1;32m     <a href='vscode-notebook-cell://wsl%2Bubuntu/home/vedu_x/DataScienceResearch/DSResearch/tweetAnalysis.ipynb#X26sdnNjb2RlLXJlbW90ZQ%3D%3D?line=10'>11</a>\u001b[0m \u001b[39m#plt.axvline(x = March_April_indices[41], color='r', linestyle='--') # 25th of April\u001b[39;00m\n",
      "File \u001b[0;32m~/miniconda3/envs/DataScience/lib/python3.9/site-packages/matplotlib/pyplot.py:2373\u001b[0m, in \u001b[0;36maxvline\u001b[0;34m(x, ymin, ymax, **kwargs)\u001b[0m\n\u001b[1;32m   2371\u001b[0m \u001b[39m@_copy_docstring_and_deprecators\u001b[39m(Axes\u001b[39m.\u001b[39maxvline)\n\u001b[1;32m   2372\u001b[0m \u001b[39mdef\u001b[39;00m \u001b[39maxvline\u001b[39m(x\u001b[39m=\u001b[39m\u001b[39m0\u001b[39m, ymin\u001b[39m=\u001b[39m\u001b[39m0\u001b[39m, ymax\u001b[39m=\u001b[39m\u001b[39m1\u001b[39m, \u001b[39m*\u001b[39m\u001b[39m*\u001b[39mkwargs):\n\u001b[0;32m-> 2373\u001b[0m     \u001b[39mreturn\u001b[39;00m gca()\u001b[39m.\u001b[39;49maxvline(x\u001b[39m=\u001b[39;49mx, ymin\u001b[39m=\u001b[39;49mymin, ymax\u001b[39m=\u001b[39;49mymax, \u001b[39m*\u001b[39;49m\u001b[39m*\u001b[39;49mkwargs)\n",
      "File \u001b[0;32m~/miniconda3/envs/DataScience/lib/python3.9/site-packages/matplotlib/axes/_axes.py:800\u001b[0m, in \u001b[0;36mAxes.axvline\u001b[0;34m(self, x, ymin, ymax, **kwargs)\u001b[0m\n\u001b[1;32m    797\u001b[0m xmin, xmax \u001b[39m=\u001b[39m \u001b[39mself\u001b[39m\u001b[39m.\u001b[39mget_xbound()\n\u001b[1;32m    799\u001b[0m \u001b[39m# Strip away the units for comparison with non-unitized bounds.\u001b[39;00m\n\u001b[0;32m--> 800\u001b[0m xx, \u001b[39m=\u001b[39m \u001b[39mself\u001b[39;49m\u001b[39m.\u001b[39;49m_process_unit_info([(\u001b[39m\"\u001b[39;49m\u001b[39mx\u001b[39;49m\u001b[39m\"\u001b[39;49m, x)], kwargs)\n\u001b[1;32m    801\u001b[0m scalex \u001b[39m=\u001b[39m (xx \u001b[39m<\u001b[39m xmin) \u001b[39mor\u001b[39;00m (xx \u001b[39m>\u001b[39m xmax)\n\u001b[1;32m    803\u001b[0m trans \u001b[39m=\u001b[39m \u001b[39mself\u001b[39m\u001b[39m.\u001b[39mget_xaxis_transform(which\u001b[39m=\u001b[39m\u001b[39m'\u001b[39m\u001b[39mgrid\u001b[39m\u001b[39m'\u001b[39m)\n",
      "File \u001b[0;32m~/miniconda3/envs/DataScience/lib/python3.9/site-packages/matplotlib/axes/_base.py:2539\u001b[0m, in \u001b[0;36m_AxesBase._process_unit_info\u001b[0;34m(self, datasets, kwargs, convert)\u001b[0m\n\u001b[1;32m   2537\u001b[0m             \u001b[39mif\u001b[39;00m dataset_axis_name \u001b[39m==\u001b[39m axis_name \u001b[39mand\u001b[39;00m data \u001b[39mis\u001b[39;00m \u001b[39mnot\u001b[39;00m \u001b[39mNone\u001b[39;00m:\n\u001b[1;32m   2538\u001b[0m                 axis\u001b[39m.\u001b[39mupdate_units(data)\n\u001b[0;32m-> 2539\u001b[0m \u001b[39mreturn\u001b[39;00m [axis_map[axis_name]\u001b[39m.\u001b[39mconvert_units(data)\n\u001b[1;32m   2540\u001b[0m         \u001b[39mif\u001b[39;00m convert \u001b[39mand\u001b[39;00m data \u001b[39mis\u001b[39;00m \u001b[39mnot\u001b[39;00m \u001b[39mNone\u001b[39;00m \u001b[39melse\u001b[39;00m data\n\u001b[1;32m   2541\u001b[0m         \u001b[39mfor\u001b[39;00m axis_name, data \u001b[39min\u001b[39;00m datasets]\n",
      "File \u001b[0;32m~/miniconda3/envs/DataScience/lib/python3.9/site-packages/matplotlib/axes/_base.py:2539\u001b[0m, in \u001b[0;36m<listcomp>\u001b[0;34m(.0)\u001b[0m\n\u001b[1;32m   2537\u001b[0m             \u001b[39mif\u001b[39;00m dataset_axis_name \u001b[39m==\u001b[39m axis_name \u001b[39mand\u001b[39;00m data \u001b[39mis\u001b[39;00m \u001b[39mnot\u001b[39;00m \u001b[39mNone\u001b[39;00m:\n\u001b[1;32m   2538\u001b[0m                 axis\u001b[39m.\u001b[39mupdate_units(data)\n\u001b[0;32m-> 2539\u001b[0m \u001b[39mreturn\u001b[39;00m [axis_map[axis_name]\u001b[39m.\u001b[39;49mconvert_units(data)\n\u001b[1;32m   2540\u001b[0m         \u001b[39mif\u001b[39;00m convert \u001b[39mand\u001b[39;00m data \u001b[39mis\u001b[39;00m \u001b[39mnot\u001b[39;00m \u001b[39mNone\u001b[39;00m \u001b[39melse\u001b[39;00m data\n\u001b[1;32m   2541\u001b[0m         \u001b[39mfor\u001b[39;00m axis_name, data \u001b[39min\u001b[39;00m datasets]\n",
      "File \u001b[0;32m~/miniconda3/envs/DataScience/lib/python3.9/site-packages/matplotlib/axis.py:1508\u001b[0m, in \u001b[0;36mAxis.convert_units\u001b[0;34m(self, x)\u001b[0m\n\u001b[1;32m   1506\u001b[0m     ret \u001b[39m=\u001b[39m \u001b[39mself\u001b[39m\u001b[39m.\u001b[39mconverter\u001b[39m.\u001b[39mconvert(x, \u001b[39mself\u001b[39m\u001b[39m.\u001b[39munits, \u001b[39mself\u001b[39m)\n\u001b[1;32m   1507\u001b[0m \u001b[39mexcept\u001b[39;00m \u001b[39mException\u001b[39;00m \u001b[39mas\u001b[39;00m e:\n\u001b[0;32m-> 1508\u001b[0m     \u001b[39mraise\u001b[39;00m munits\u001b[39m.\u001b[39mConversionError(\u001b[39m'\u001b[39m\u001b[39mFailed to convert value(s) to axis \u001b[39m\u001b[39m'\u001b[39m\n\u001b[1;32m   1509\u001b[0m                                  \u001b[39mf\u001b[39m\u001b[39m'\u001b[39m\u001b[39munits: \u001b[39m\u001b[39m{\u001b[39;00mx\u001b[39m!r}\u001b[39;00m\u001b[39m'\u001b[39m) \u001b[39mfrom\u001b[39;00m \u001b[39me\u001b[39;00m\n\u001b[1;32m   1510\u001b[0m \u001b[39mreturn\u001b[39;00m ret\n",
      "\u001b[0;31mConversionError\u001b[0m: Failed to convert value(s) to axis units: Timestamp('2020-02-01 00:00:00')"
     ]
    },
    {
     "data": {
      "image/png": "[encoded data removed]",
      "text/plain": [
       "<Figure size 792x288 with 1 Axes>"
      ]
     },
     "metadata": {},
     "output_type": "display_data"
    }
   ],
   "source": [
    "#ThreeMonthDays = list(range(21, 31+1))+list(range(1, 28+1))+ list(range(1, 31+1))\n",
    "\n",
    "#to find number of hashtags per second\n",
    "plt.plot(counts['noOfHashtags'].div(60*60*24), \"o-\", markersize=4)\n",
    "plt.ylabel('Hashtags per second', fontsize=15)\n",
    "plt.xlabel('Time(Months)', fontsize=15)\n",
    "\n",
    "\n",
    "plt.axvline(x = pd.to_datetime(\"2020-02-01\", format='%Y-%m-%d'), color='r', linestyle='--') # 1st of February\n",
    "plt.axvline(x = pd.to_datetime(\"2020-02-28\", format='%Y-%m-%d'), color='r', linestyle='--') # 28th of February\n",
    "#plt.axvline(x = March_April_indices[41], color='r', linestyle='--') # 25th of April\n",
    "plt.yticks(np.arange(0, 14, 4), fontsize = 12)\n",
    "plt.xticks(counts.index[::30], counts.index.month_name()[::30], fontsize=12)\n",
    "plt.figtext(0.9, 0.9, \"b=1d\", wrap = True, horizontalalignment = 'center', fontsize = 15) \n",
    "#plt.figtext(0.25, -0.05, \"Feb\", wrap = True, horizontalalignment = 'center', fontsize = 18)\n",
    "#plt.figtext(0.75, -0.05, \"Mar\", wrap = True, horizontalalignment = 'center', fontsize = 18)\n",
    "#plt.xlim(pd.to_datetime(\"2020-01-31\", format='%Y-%m-%d'), pd.to_datetime(\"2020-03-02\", format='%Y-%m-%d'))  #To be used later when have more data to focus on these months :\n",
    "#draw the plot\n",
    "plt.tight_layout()\n",
    "plt.savefig('image3.png')\n",
    "plt.show()"
   ]
  },
  {
   "cell_type": "code",
   "execution_count": 25,
   "id": "f47004eb",
   "metadata": {},
   "outputs": [
    {
     "ename": "NameError",
     "evalue": "name 'df' is not defined",
     "output_type": "error",
     "traceback": [
      "\u001b[0;31m---------------------------------------------------------------------------\u001b[0m",
      "\u001b[0;31mNameError\u001b[0m                                 Traceback (most recent call last)",
      "\u001b[1;32m/home/vedu_x/DataScienceResearch/DSResearch/tweetAnalysis.ipynb Cell 19\u001b[0m in \u001b[0;36m<cell line: 3>\u001b[0;34m()\u001b[0m\n\u001b[1;32m      <a href='vscode-notebook-cell://wsl%2Bubuntu/home/vedu_x/DataScienceResearch/DSResearch/tweetAnalysis.ipynb#X30sdnNjb2RlLXJlbW90ZQ%3D%3D?line=0'>1</a>\u001b[0m counts\u001b[39m.\u001b[39mhead()\n\u001b[0;32m----> <a href='vscode-notebook-cell://wsl%2Bubuntu/home/vedu_x/DataScienceResearch/DSResearch/tweetAnalysis.ipynb#X30sdnNjb2RlLXJlbW90ZQ%3D%3D?line=2'>3</a>\u001b[0m TokensPerDay \u001b[39m=\u001b[39m df\u001b[39m.\u001b[39mgroupby([\u001b[39m'\u001b[39m\u001b[39mDate\u001b[39m\u001b[39m'\u001b[39m])[\u001b[39m'\u001b[39m\u001b[39mHashtags\u001b[39m\u001b[39m'\u001b[39m]\u001b[39m.\u001b[39mnunique()\n\u001b[1;32m      <a href='vscode-notebook-cell://wsl%2Bubuntu/home/vedu_x/DataScienceResearch/DSResearch/tweetAnalysis.ipynb#X30sdnNjb2RlLXJlbW90ZQ%3D%3D?line=3'>4</a>\u001b[0m \u001b[39m#type of tokens per day\u001b[39;00m\n\u001b[1;32m      <a href='vscode-notebook-cell://wsl%2Bubuntu/home/vedu_x/DataScienceResearch/DSResearch/tweetAnalysis.ipynb#X30sdnNjb2RlLXJlbW90ZQ%3D%3D?line=5'>6</a>\u001b[0m TokensPerDay\u001b[39m.\u001b[39mhead()\n",
      "\u001b[0;31mNameError\u001b[0m: name 'df' is not defined"
     ]
    }
   ],
   "source": [
    "counts.head()\n",
    "\n",
    "TokensPerDay = df.groupby(['Date'])['Hashtags'].nunique()\n",
    "#type of tokens per day\n",
    "\n",
    "TokensPerDay.head()"
   ]
  },
  {
   "cell_type": "code",
   "execution_count": 35,
   "id": "a3be4cf0",
   "metadata": {},
   "outputs": [
    {
     "data": {
      "image/png": "[encoded data removed]",
      "text/plain": [
       "<Figure size 792x288 with 1 Axes>"
      ]
     },
     "metadata": {},
     "output_type": "display_data"
    }
   ],
   "source": [
    "plt.plot(TokensPerDay.div(60*24))\n",
    "plt.ylabel('types of hashtags per minute', fontsize=15)\n",
    "plt.xlabel('Time(Months)', fontsize=15)\n",
    "\n",
    "plt.axvline(x = pd.to_datetime(\"2020-02-01\", format='%Y-%m-%d'), color='r', linestyle='--') # 1st of February\n",
    "plt.axvline(x = pd.to_datetime(\"2020-02-28\", format='%Y-%m-%d'), color='r', linestyle='--') # 28th of February\n",
    "#plt.axvline(x = March_April_indices[41], color='r', linestyle='--') # 25th of April\n",
    "plt.yticks(np.arange(0, 100, 20), fontsize = 12)\n",
    "plt.xticks(TokensPerDay.index[::30], TokensPerDay.index.month_name()[::30], fontsize=12)\n",
    "plt.figtext(0.9, 0.9, \"b=1d\", wrap = True, horizontalalignment = 'center', fontsize = 15) \n",
    "#plt.figtext(0.25, -0.05, \"Feb\", wrap = True, horizontalalignment = 'center', fontsize = 18)\n",
    "#plt.figtext(0.75, -0.05, \"Mar\", wrap = True, horizontalalignment = 'center', fontsize = 18)\n",
    "#plt.xlim(pd.to_datetime(\"2020-01-31\", format='%Y-%m-%d'), pd.to_datetime(\"2020-03-02\", format='%Y-%m-%d'))  #To be used later when have more data to focus on these months :\n",
    "#draw the plot\n",
    "plt.tight_layout()\n",
    "plt.savefig('image2.png')\n",
    "plt.show()\n",
    "#draw the plot\n",
    "#Tokens per Day"
   ]
  },
  {
   "cell_type": "code",
   "execution_count": 24,
   "id": "5eb3c68a",
   "metadata": {},
   "outputs": [
    {
     "data": {
      "image/png": "[encoded data removed]",
      "text/plain": [
       "<Figure size 792x288 with 1 Axes>"
      ]
     },
     "metadata": {},
     "output_type": "display_data"
    }
   ],
   "source": [
    "plt.plot(TokensPerDay.div(60*24))\n",
    "plt.ylabel('types of hashtags per minute', fontsize=15)\n",
    "plt.xlabel('Time(Months)', fontsize=15)\n",
    "\n",
    "plt.axvline(x = pd.to_datetime(\"2020-02-01\", format='%Y-%m-%d'), color='r', linestyle='--') # 1st of February\n",
    "plt.axvline(x = pd.to_datetime(\"2020-02-28\", format='%Y-%m-%d'), color='r', linestyle='--') # 28th of February\n",
    "#plt.axvline(x = March_April_indices[41], color='r', linestyle='--') # 25th of April\n",
    "plt.yticks(np.arange(0, 100, 20), fontsize = 12)\n",
    "plt.xticks(TokensPerDay.index[::5], TokensPerDay.index.day[::5], fontsize=12)\n",
    "plt.figtext(0.9, 0.9, \"b=1d\", wrap = True, horizontalalignment = 'center', fontsize = 15) \n",
    "#plt.figtext(0.25, -0.05, \"Feb\", wrap = True, horizontalalignment = 'center', fontsize = 18)\n",
    "#plt.figtext(0.75, -0.05, \"Mar\", wrap = True, horizontalalignment = 'center', fontsize = 18)\n",
    "#plt.xlim(pd.to_datetime(\"2020-01-31\", format='%Y-%m-%d'), pd.to_datetime(\"2020-03-02\", format='%Y-%m-%d'))  #To be used later when have more data to focus on these months :\n",
    "#draw the plot\n",
    "plt.tight_layout()\n",
    "plt.savefig('image1.png')\n",
    "plt.show()\n",
    "#draw the plot\n",
    "#Tokens per Day"
   ]
  },
  {
   "cell_type": "code",
   "execution_count": null,
   "id": "a3e5ad9a",
   "metadata": {},
   "outputs": [],
   "source": [
    "###zoom into week for hourly analysis\n",
    "\n",
    "\n",
    "\n",
    "df.head()\n",
    "\n",
    "\n",
    "\n"
   ]
  },
  {
   "cell_type": "code",
   "execution_count": null,
   "id": "d26b4de7",
   "metadata": {},
   "outputs": [],
   "source": [
    "df['TweetID'] = df['TweetID'].astype(int)"
   ]
  },
  {
   "cell_type": "code",
   "execution_count": null,
   "id": "50ff74b8",
   "metadata": {},
   "outputs": [],
   "source": [
    "#checking the occurence of different tweets\n",
    "\n",
    "df.groupby([df.index.date, 'TweetID']).count().plot()\n",
    "\n",
    "plt.ylabel('Number of Tweets')\n",
    "#draw the plot\n",
    "plt.show()"
   ]
  },
  {
   "cell_type": "code",
   "execution_count": null,
   "id": "969133b4",
   "metadata": {},
   "outputs": [],
   "source": [
    "# def plot_df(df, x, y, title=\"\", xlabel='Date', ylabel='Value', dpi=100):\n",
    "#     plt.figure(figsize=(16,5), dpi=dpi)\n",
    "#     plt.plot(x, y, color='tab:red')\n",
    "#     plt.gca().set(title=title, xlabel=xlabel, ylabel=ylabel)\n",
    "#     plt.show()\n",
    "    "
   ]
  },
  {
   "cell_type": "code",
   "execution_count": null,
   "id": "aa7dbab9",
   "metadata": {},
   "outputs": [],
   "source": [
    "#plot_df(df, x=df.day, title='Daily tweets')"
   ]
  },
  {
   "cell_type": "code",
   "execution_count": null,
   "id": "8466f9ab",
   "metadata": {},
   "outputs": [],
   "source": [
    "# counts = df.groupby(['date']).agg(len)\n",
    "\n",
    "#Tokens per Day\n"
   ]
  },
  {
   "cell_type": "code",
   "execution_count": null,
   "id": "9d4e39ae",
   "metadata": {},
   "outputs": [],
   "source": [
    "# plt.plot(counts)\n",
    "# plt.ylabel('Number of Tweets')\n",
    "# plt.xlabel('day')\n",
    "# #draw the plot\n",
    "# plt.show()\n",
    "#Tweets per second plotted against day"
   ]
  },
  {
   "cell_type": "code",
   "execution_count": null,
   "id": "0e82e1c9",
   "metadata": {},
   "outputs": [],
   "source": [
    "# plt.plot(df.groupby(['Date']).agg(len))\n",
    "# plt.ylabel('Number of Tweets')\n",
    "# plt.xlabel('day')\n",
    "# #draw the plot\n",
    "# plt.show()"
   ]
  },
  {
   "cell_type": "code",
   "execution_count": null,
   "id": "8f17c6a0",
   "metadata": {},
   "outputs": [],
   "source": [
    "# plt.plot(df.groupby(['month']).agg(len))\n",
    "# plt.ylabel('Number of Tweets')\n",
    "# plt.xlabel('month')\n",
    "# #draw the plot\n",
    "# plt.show()\n",
    "#weird result as i have data for one month but still weird as it should have some kind of dot for that month\n",
    "\n",
    "\n"
   ]
  },
  {
   "cell_type": "code",
   "execution_count": null,
   "id": "28098e35",
   "metadata": {},
   "outputs": [],
   "source": [
    "# counts1 = df.groupby(['day', 'Retweeted_ID']).size().plot()\n",
    "\n",
    "# default_x_ticks =df['day']\n",
    "# plt.xticks(default_x_ticks)\n",
    "# plt.show()\n",
    "\n",
    "#What kind of plot to use to talk about frequency of different type of tweets?\n",
    "#i can use subplot or maybe legend"
   ]
  }
 ],
 "metadata": {
  "kernelspec": {
   "display_name": "Python 3 (ipykernel)",
   "language": "python",
   "name": "python3"
  },
  "language_info": {
   "codemirror_mode": {
    "name": "ipython",
    "version": 3
   },
   "file_extension": ".py",
   "mimetype": "text/x-python",
   "name": "python",
   "nbconvert_exporter": "python",
   "pygments_lexer": "ipython3",
   "version": "3.9.12"
  },
  "vscode": {
   "interpreter": {
    "hash": "58a1da576b0589f1031c224acff547f12b528d048bcf4ca98de793aa49e49f74"
   }
  }
 },
 "nbformat": 4,
 "nbformat_minor": 5
}
