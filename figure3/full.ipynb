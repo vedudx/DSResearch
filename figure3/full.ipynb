{
 "cells": [
  {
   "attachments": {},
   "cell_type": "markdown",
   "metadata": {},
   "source": [
    "# Full Data\n",
    "\n",
    "Running `test.ipynb` on the full `data/` folder.\n",
    "\n",
    "NOTE: Running this on my laptop takes about 10 minutes."
   ]
  },
  {
   "attachments": {},
   "cell_type": "markdown",
   "metadata": {},
   "source": [
    "## Imports and Constants"
   ]
  },
  {
   "cell_type": "code",
   "execution_count": 2,
   "metadata": {},
   "outputs": [],
   "source": [
    "import glob\n",
    "import sys\n",
    "import pandas as pd\n",
    "import numpy as np\n",
    "import datetime\n",
    "import matplotlib.pyplot as plt\n",
    "import seaborn as sns\n",
    "import datetime"
   ]
  },
  {
   "cell_type": "code",
   "execution_count": 3,
   "metadata": {},
   "outputs": [],
   "source": [
    "# 15 points, ranging from 1 minute to 100 days, in a log scale, represented in seconds\n",
    "TIME_DELTAS = np.geomspace(60, 60*60*24*100, num=15, dtype=int)\n",
    "REQ_COLS = ['CreatedAt_Full', 'Hashtags']"
   ]
  },
  {
   "attachments": {},
   "cell_type": "markdown",
   "metadata": {},
   "source": [
    "## Parsing"
   ]
  },
  {
   "cell_type": "code",
   "execution_count": 4,
   "metadata": {},
   "outputs": [
    {
     "name": "stdout",
     "output_type": "stream",
     "text": [
      "['../data/cleaned_data/2020-02-04mod.csv.gz', '../data/cleaned_data/2020-03-02mod.csv.gz', '../data/cleaned_data/2020-02-10mod.csv.gz', '../data/cleaned_data/2020-01-26mod.csv.gz', '../data/cleaned_data/2020-03-23mod.csv.gz', '../data/cleaned_data/2020-03-31mod.csv.gz', '../data/cleaned_data/2020-03-25mod.csv.gz', '../data/cleaned_data/2020-02-16mod.csv.gz', '../data/cleaned_data/2020-03-28mod.csv.gz', '../data/cleaned_data/2020-03-09mod.csv.gz', '../data/cleaned_data/2020-03-17mod.csv.gz', '../data/cleaned_data/2020-02-11mod.csv.gz', '../data/cleaned_data/2020-02-05mod.csv.gz', '../data/cleaned_data/2020-03-03mod.csv.gz', '../data/cleaned_data/2020-02-24mod.csv.gz', '../data/cleaned_data/2020-02-22mod.csv.gz', '../data/cleaned_data/2020-01-21mod.csv.gz', '../data/cleaned_data/2020-03-30mod.csv.gz', '../data/cleaned_data/2020-02-17mod.csv.gz', '../data/cleaned_data/2020-02-03mod.csv.gz', '../data/cleaned_data/2020-03-05mod.csv.gz', '../data/cleaned_data/2020-03-08mod.csv.gz', '../data/cleaned_data/2020-03-21mod.csv.gz', '../data/cleaned_data/2020-02-27mod.csv.gz', '../data/cleaned_data/2020-02-06mod.csv.gz', '../data/cleaned_data/2020-02-12mod.csv.gz', '../data/cleaned_data/2020-03-14mod.csv.gz', '../data/cleaned_data/2020-01-29mod.csv.gz', '../data/cleaned_data/2020-03-19mod.csv.gz', '../data/cleaned_data/2020-03-06mod.csv.gz', '../data/cleaned_data/2020-02-14mod.csv.gz', '../data/cleaned_data/2020-03-12mod.csv.gz', '../data/cleaned_data/2020-03-27mod.csv.gz', '../data/cleaned_data/2020-02-19mod.csv.gz', '../data/cleaned_data/2020-01-25mod.csv.gz', '../data/cleaned_data/2020-02-26mod.csv.gz', '../data/cleaned_data/2020-01-31mod.csv.gz', '../data/cleaned_data/2020-03-01mod.csv.gz', '../data/cleaned_data/2020-01-28mod.csv.gz', '../data/cleaned_data/2020-02-01mod.csv.gz', '../data/cleaned_data/2020-01-23mod.csv.gz', '../data/cleaned_data/2020-02-20mod.csv.gz']\n"
     ]
    }
   ],
   "source": [
    "data_files = glob.glob(\"../data/cleaned_data/2020-*.csv.gz\")\n",
    "print(data_files)"
   ]
  },
  {
   "cell_type": "code",
   "execution_count": 5,
   "metadata": {},
   "outputs": [
    {
     "name": "stdout",
     "output_type": "stream",
     "text": [
      "Rows: 26857300\n",
      "Rows with null values: 0\n"
     ]
    },
    {
     "data": {
      "text/plain": [
       "(26857300, 2)"
      ]
     },
     "execution_count": 5,
     "metadata": {},
     "output_type": "execute_result"
    }
   ],
   "source": [
    "dtypes = {'CreatedAt_Full': str, 'Hashtags': str}\n",
    "parse_dates = ['CreatedAt_Full']\n",
    "df = pd.concat((pd.read_csv(file, usecols=REQ_COLS, dtype=dtypes, parse_dates=parse_dates).dropna() for file in data_files))\n",
    "# output size of dataset\n",
    "print(f'Rows: {df.shape[0]}')\n",
    "print(f'Rows with null values: {df.isnull().any(axis=1).sum()}')\n",
    "# drop rows with null values\n",
    "df.dropna(inplace=True)\n",
    "df.shape"
   ]
  },
  {
   "cell_type": "code",
   "execution_count": 6,
   "metadata": {},
   "outputs": [
    {
     "data": {
      "text/html": [
       "<div>\n",
       "<style scoped>\n",
       "    .dataframe tbody tr th:only-of-type {\n",
       "        vertical-align: middle;\n",
       "    }\n",
       "\n",
       "    .dataframe tbody tr th {\n",
       "        vertical-align: top;\n",
       "    }\n",
       "\n",
       "    .dataframe thead th {\n",
       "        text-align: right;\n",
       "    }\n",
       "</style>\n",
       "<table border=\"1\" class=\"dataframe\">\n",
       "  <thead>\n",
       "    <tr style=\"text-align: right;\">\n",
       "      <th></th>\n",
       "      <th>CreatedAt_Full</th>\n",
       "      <th>Hashtags</th>\n",
       "    </tr>\n",
       "  </thead>\n",
       "  <tbody>\n",
       "    <tr>\n",
       "      <th>8</th>\n",
       "      <td>2020-01-21 22:21:59+00:00</td>\n",
       "      <td>'dyk'</td>\n",
       "    </tr>\n",
       "    <tr>\n",
       "      <th>9</th>\n",
       "      <td>2020-01-21 22:21:59+00:00</td>\n",
       "      <td>'flu'</td>\n",
       "    </tr>\n",
       "    <tr>\n",
       "      <th>10</th>\n",
       "      <td>2020-01-21 22:25:08+00:00</td>\n",
       "      <td>'coronavirus'</td>\n",
       "    </tr>\n",
       "    <tr>\n",
       "      <th>5</th>\n",
       "      <td>2020-01-21 22:25:22+00:00</td>\n",
       "      <td>'coronavirus'</td>\n",
       "    </tr>\n",
       "    <tr>\n",
       "      <th>12</th>\n",
       "      <td>2020-01-21 22:27:24+00:00</td>\n",
       "      <td>'coronavirus'</td>\n",
       "    </tr>\n",
       "  </tbody>\n",
       "</table>\n",
       "</div>"
      ],
      "text/plain": [
       "              CreatedAt_Full        Hashtags\n",
       "8  2020-01-21 22:21:59+00:00           'dyk'\n",
       "9  2020-01-21 22:21:59+00:00           'flu'\n",
       "10 2020-01-21 22:25:08+00:00   'coronavirus'\n",
       "5  2020-01-21 22:25:22+00:00   'coronavirus'\n",
       "12 2020-01-21 22:27:24+00:00   'coronavirus'"
      ]
     },
     "execution_count": 6,
     "metadata": {},
     "output_type": "execute_result"
    }
   ],
   "source": [
    "# convert date to pandas datetime (is this necessary?)\n",
    "df['CreatedAt_Full'] = pd.to_datetime(df['CreatedAt_Full'])\n",
    "\n",
    "# sort by date\n",
    "df.sort_values(by='CreatedAt_Full', inplace=True)\n",
    "\n",
    "df.head()"
   ]
  },
  {
   "cell_type": "code",
   "execution_count": 7,
   "metadata": {},
   "outputs": [
    {
     "data": {
      "text/plain": [
       "Timestamp('2020-01-21 22:21:59+0000', tz='tzutc()')"
      ]
     },
     "execution_count": 7,
     "metadata": {},
     "output_type": "execute_result"
    }
   ],
   "source": [
    "START_DATE = df.iloc[0]['CreatedAt_Full']\n",
    "START_DATE"
   ]
  },
  {
   "cell_type": "code",
   "execution_count": 8,
   "metadata": {},
   "outputs": [
    {
     "data": {
      "text/plain": [
       "Timestamp('2020-03-31 23:58:54+0000', tz='tzutc()')"
      ]
     },
     "execution_count": 8,
     "metadata": {},
     "output_type": "execute_result"
    }
   ],
   "source": [
    "# this is the \"end date\"\n",
    "df.iloc[-1]['CreatedAt_Full']"
   ]
  },
  {
   "attachments": {},
   "cell_type": "markdown",
   "metadata": {},
   "source": [
    "## Analyzing"
   ]
  },
  {
   "cell_type": "code",
   "execution_count": 9,
   "metadata": {},
   "outputs": [],
   "source": [
    "# for every time delta, get the number of hashtags created between START and that time delta\n",
    "# return total hashtags as well as distinct hashtags\n",
    "\n",
    "def get_num_hashtags(input_df, time_delta, start_date):\n",
    "    end_date = start_date + pd.Timedelta(seconds=time_delta)\n",
    "    new_df = input_df[(input_df['CreatedAt_Full'] >= start_date) & (input_df['CreatedAt_Full'] < end_date)]\n",
    "    return new_df.shape[0], len(new_df['Hashtags'].unique())"
   ]
  },
  {
   "cell_type": "code",
   "execution_count": 10,
   "metadata": {},
   "outputs": [
    {
     "name": "stdout",
     "output_type": "stream",
     "text": [
      "60 seconds: 2 total hashtags, 2 unique hashtags\n",
      "140 seconds: 2 total hashtags, 2 unique hashtags\n",
      "327 seconds: 6 total hashtags, 5 unique hashtags\n",
      "764 seconds: 9 total hashtags, 8 unique hashtags\n",
      "1786 seconds: 16 total hashtags, 12 unique hashtags\n",
      "4172 seconds: 48 total hashtags, 29 unique hashtags\n",
      "9747 seconds: 79 total hashtags, 39 unique hashtags\n",
      "22768 seconds: 79 total hashtags, 39 unique hashtags\n",
      "53184 seconds: 79 total hashtags, 39 unique hashtags\n",
      "124234 seconds: 13125 total hashtags, 1491 unique hashtags\n",
      "290198 seconds: 222899 total hashtags, 8602 unique hashtags\n",
      "677876 seconds: 3238704 total hashtags, 60851 unique hashtags\n",
      "1583451 seconds: 7258702 total hashtags, 178823 unique hashtags\n",
      "3698786 seconds: 20823202 total hashtags, 396458 unique hashtags\n",
      "8640000 seconds: 26857300 total hashtags, 711432 unique hashtags\n"
     ]
    }
   ],
   "source": [
    "total_hashtags = []\n",
    "unique_hashtags = []\n",
    "\n",
    "for time_delta in TIME_DELTAS:\n",
    "    total, unique = get_num_hashtags(df, time_delta, START_DATE)\n",
    "    total_hashtags.append(total)\n",
    "    unique_hashtags.append(unique)\n",
    "    print(f'{time_delta} seconds: {total} total hashtags, {unique} unique hashtags')"
   ]
  },
  {
   "attachments": {},
   "cell_type": "markdown",
   "metadata": {},
   "source": [
    "## Graphing"
   ]
  },
  {
   "cell_type": "code",
   "execution_count": 14,
   "metadata": {},
   "outputs": [
    {
     "data": {
      "image/png": "[encoded data removed]",
      "text/plain": [
       "<Figure size 1000x600 with 1 Axes>"
      ]
     },
     "metadata": {},
     "output_type": "display_data"
    }
   ],
   "source": [
    "# use matplotlib to graph a connected scatterplot of the number of hashtags vs total hashtags \n",
    "# plot total hashtags vs unique hashtags\n",
    "\n",
    "plt.figure(figsize=(10, 6))\n",
    "plt.plot(total_hashtags, unique_hashtags, marker='o')\n",
    "plt.xscale('log')\n",
    "plt.yscale('log')\n",
    "plt.xlabel('Total Hashtags')\n",
    "plt.ylabel('Unique Hashtags')\n",
    "\n",
    "# add x=y line\n",
    "m = max(max(total_hashtags), max(unique_hashtags))\n",
    "x = np.linspace(1, m, 100)\n",
    "y = x\n",
    "plt.plot(x, y, color='red')\n",
    "\n",
    "# save plot BEFORE showing it (otherwise it will be blank)\n",
    "plt.savefig('../images/figure3.png', dpi=300, bbox_inches='tight')\n",
    "\n",
    "plt.show()"
   ]
  }
 ],
 "metadata": {
  "kernelspec": {
   "display_name": "ds-research",
   "language": "python",
   "name": "python3"
  },
  "language_info": {
   "codemirror_mode": {
    "name": "ipython",
    "version": 3
   },
   "file_extension": ".py",
   "mimetype": "text/x-python",
   "name": "python",
   "nbconvert_exporter": "python",
   "pygments_lexer": "ipython3",
   "version": "3.10.8"
  },
  "orig_nbformat": 4,
  "vscode": {
   "interpreter": {
    "hash": "9e950de5f1e037158d52e176abfa743b08f42612097b7b49bb11fc6ef119aa2c"
   }
  }
 },
 "nbformat": 4,
 "nbformat_minor": 2
}
