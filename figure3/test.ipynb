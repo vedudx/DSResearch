{
 "cells": [
  {
   "attachments": {},
   "cell_type": "markdown",
   "metadata": {},
   "source": [
    "# Testing\n",
    "\n",
    "testing the code in a single day, on `data/cleaned_data/2020-02-04mod.csv.gz`"
   ]
  },
  {
   "cell_type": "code",
   "execution_count": 1,
   "metadata": {},
   "outputs": [],
   "source": [
    "import glob\n",
    "import sys\n",
    "import pandas as pd\n",
    "import numpy as np\n",
    "import datetime\n",
    "import matplotlib.pyplot as plt\n",
    "import seaborn as sns\n",
    "import datetime"
   ]
  },
  {
   "attachments": {},
   "cell_type": "markdown",
   "metadata": {},
   "source": [
    "## Constants"
   ]
  },
  {
   "cell_type": "code",
   "execution_count": 2,
   "metadata": {},
   "outputs": [],
   "source": [
    "# 15 points, ranging from 1 minute to one day, in a log scale, represented in seconds\n",
    "TIME_DELTAS = np.geomspace(60, 60*60*24, num=15, dtype=int)\n",
    "REQ_COLS = ['CreatedAt_Full', 'Hashtags']"
   ]
  },
  {
   "attachments": {},
   "cell_type": "markdown",
   "metadata": {},
   "source": [
    "## Parsing"
   ]
  },
  {
   "cell_type": "code",
   "execution_count": 15,
   "metadata": {},
   "outputs": [
    {
     "name": "stdout",
     "output_type": "stream",
     "text": [
      "Rows: 1758179\n",
      "Rows with null values:: 1143006\n"
     ]
    }
   ],
   "source": [
    "dtypes = {'CreatedAt_Full': str, 'Hashtags': str}\n",
    "parse_dates = ['CreatedAt_Full']\n",
    "\n",
    "df = pd.read_csv('../data/cleaned_data/2020-02-04mod.csv.gz', usecols=REQ_COLS, dtype=dtypes, parse_dates=parse_dates)\n",
    "# output size of dataset\n",
    "print(f'Rows: {df.shape[0]}')\n",
    "print(f'Rows with null values: {df.isnull().any(axis=1).sum()}')\n",
    "# drop rows with null values\n",
    "df.dropna(inplace=True)"
   ]
  },
  {
   "cell_type": "code",
   "execution_count": 16,
   "metadata": {},
   "outputs": [
    {
     "data": {
      "text/html": [
       "<div>\n",
       "<style scoped>\n",
       "    .dataframe tbody tr th:only-of-type {\n",
       "        vertical-align: middle;\n",
       "    }\n",
       "\n",
       "    .dataframe tbody tr th {\n",
       "        vertical-align: top;\n",
       "    }\n",
       "\n",
       "    .dataframe thead th {\n",
       "        text-align: right;\n",
       "    }\n",
       "</style>\n",
       "<table border=\"1\" class=\"dataframe\">\n",
       "  <thead>\n",
       "    <tr style=\"text-align: right;\">\n",
       "      <th></th>\n",
       "      <th>CreatedAt_Full</th>\n",
       "      <th>Hashtags</th>\n",
       "    </tr>\n",
       "  </thead>\n",
       "  <tbody>\n",
       "    <tr>\n",
       "      <th>0</th>\n",
       "      <td>2020-02-04 00:00:00+00:00</td>\n",
       "      <td>'beijing'</td>\n",
       "    </tr>\n",
       "    <tr>\n",
       "      <th>28</th>\n",
       "      <td>2020-02-04 00:00:00+00:00</td>\n",
       "      <td>'coronavirus'</td>\n",
       "    </tr>\n",
       "    <tr>\n",
       "      <th>29</th>\n",
       "      <td>2020-02-04 00:00:00+00:00</td>\n",
       "      <td>'wuhan'</td>\n",
       "    </tr>\n",
       "    <tr>\n",
       "      <th>30</th>\n",
       "      <td>2020-02-04 00:00:00+00:00</td>\n",
       "      <td>'coronavirus'</td>\n",
       "    </tr>\n",
       "    <tr>\n",
       "      <th>31</th>\n",
       "      <td>2020-02-04 00:00:00+00:00</td>\n",
       "      <td>'coronavirus'</td>\n",
       "    </tr>\n",
       "  </tbody>\n",
       "</table>\n",
       "</div>"
      ],
      "text/plain": [
       "              CreatedAt_Full       Hashtags\n",
       "0  2020-02-04 00:00:00+00:00      'beijing'\n",
       "28 2020-02-04 00:00:00+00:00  'coronavirus'\n",
       "29 2020-02-04 00:00:00+00:00        'wuhan'\n",
       "30 2020-02-04 00:00:00+00:00  'coronavirus'\n",
       "31 2020-02-04 00:00:00+00:00  'coronavirus'"
      ]
     },
     "execution_count": 16,
     "metadata": {},
     "output_type": "execute_result"
    }
   ],
   "source": [
    "# convert date to pandas datetime (is this necessary?)\n",
    "df['CreatedAt_Full'] = pd.to_datetime(df['CreatedAt_Full'])\n",
    "\n",
    "# sort by date\n",
    "df.sort_values(by='CreatedAt_Full', inplace=True)\n",
    "\n",
    "df.head()"
   ]
  },
  {
   "cell_type": "code",
   "execution_count": 17,
   "metadata": {},
   "outputs": [
    {
     "name": "stdout",
     "output_type": "stream",
     "text": [
      "CreatedAt_Full    datetime64[ns, tzutc()]\n",
      "Hashtags                           object\n",
      "dtype: object\n",
      "(615173, 2)\n"
     ]
    }
   ],
   "source": [
    "print(df.dtypes)\n",
    "print(df.shape)"
   ]
  },
  {
   "cell_type": "code",
   "execution_count": 18,
   "metadata": {},
   "outputs": [],
   "source": [
    "START_DATE = df.iloc[0]['CreatedAt_Full']"
   ]
  },
  {
   "attachments": {},
   "cell_type": "markdown",
   "metadata": {},
   "source": [
    "## Analyzing"
   ]
  },
  {
   "cell_type": "code",
   "execution_count": 19,
   "metadata": {},
   "outputs": [],
   "source": [
    "# for every time delta, get the number of hashtags created between START and that time delta\n",
    "# return total hashtags as well as distinct hashtags\n",
    "\n",
    "def get_num_hashtags(input_df, time_delta, start_date):\n",
    "    end_date = start_date + pd.Timedelta(seconds=time_delta)\n",
    "    new_df = input_df[(input_df['CreatedAt_Full'] >= start_date) & (input_df['CreatedAt_Full'] < end_date)]\n",
    "    return new_df.shape[0], len(new_df['Hashtags'].unique())"
   ]
  },
  {
   "cell_type": "code",
   "execution_count": 20,
   "metadata": {},
   "outputs": [
    {
     "name": "stdout",
     "output_type": "stream",
     "text": [
      "60 seconds: 573 total hashtags, 299 unique hashtags\n",
      "100 seconds: 890 total hashtags, 427 unique hashtags\n",
      "169 seconds: 1422 total hashtags, 587 unique hashtags\n",
      "285 seconds: 2375 total hashtags, 854 unique hashtags\n",
      "479 seconds: 3961 total hashtags, 1262 unique hashtags\n",
      "805 seconds: 6642 total hashtags, 1866 unique hashtags\n",
      "1354 seconds: 10731 total hashtags, 2554 unique hashtags\n",
      "2276 seconds: 17582 total hashtags, 3591 unique hashtags\n",
      "3827 seconds: 19227 total hashtags, 3808 unique hashtags\n",
      "6434 seconds: 31279 total hashtags, 5482 unique hashtags\n",
      "10817 seconds: 47864 total hashtags, 7638 unique hashtags\n",
      "18185 seconds: 88763 total hashtags, 11625 unique hashtags\n",
      "30571 seconds: 313412 total hashtags, 18075 unique hashtags\n",
      "51394 seconds: 431893 total hashtags, 27764 unique hashtags\n",
      "86400 seconds: 615173 total hashtags, 41319 unique hashtags\n"
     ]
    }
   ],
   "source": [
    "total_hashtags_test = []\n",
    "unique_hashtags_test = []\n",
    "\n",
    "for time_delta in TIME_DELTAS:\n",
    "    total, unique = get_num_hashtags(df, time_delta, START_DATE)\n",
    "    total_hashtags_test.append(total)\n",
    "    unique_hashtags_test.append(unique)\n",
    "    print(f'{time_delta} seconds: {total} total hashtags, {unique} unique hashtags')"
   ]
  },
  {
   "attachments": {},
   "cell_type": "markdown",
   "metadata": {},
   "source": [
    "## Graphing"
   ]
  },
  {
   "cell_type": "code",
   "execution_count": 22,
   "metadata": {},
   "outputs": [
    {
     "data": {
      "image/png": "[encoded data removed]",
      "text/plain": [
       "<Figure size 1000x600 with 1 Axes>"
      ]
     },
     "metadata": {},
     "output_type": "display_data"
    }
   ],
   "source": [
    "# use matplotlib to graph a connected scatterplot of the number of hashtags vs total hashtags \n",
    "# plot total hashtags vs unique hashtags\n",
    "\n",
    "plt.figure(figsize=(10, 6))\n",
    "plt.plot(total_hashtags_test, unique_hashtags_test, marker='o')\n",
    "plt.xscale('log')\n",
    "plt.yscale('log')\n",
    "plt.xlabel('Total Hashtags')\n",
    "plt.ylabel('Unique Hashtags')\n",
    "\n",
    "# add x=y line\n",
    "max_coord = max(max(total_hashtags_test), max(unique_hashtags_test))\n",
    "min_coord = min(min(total_hashtags_test), min(unique_hashtags_test))\n",
    "x = np.linspace(min_coord, max_coord, 100)\n",
    "y = x\n",
    "plt.plot(x, y, color='red')\n",
    "plt.show()"
   ]
  }
 ],
 "metadata": {
  "kernelspec": {
   "display_name": "ds-research",
   "language": "python",
   "name": "python3"
  },
  "language_info": {
   "codemirror_mode": {
    "name": "ipython",
    "version": 3
   },
   "file_extension": ".py",
   "mimetype": "text/x-python",
   "name": "python",
   "nbconvert_exporter": "python",
   "pygments_lexer": "ipython3",
   "version": "3.10.8 (main, Nov 24 2022, 08:09:04) [Clang 14.0.6 ]"
  },
  "orig_nbformat": 4,
  "vscode": {
   "interpreter": {
    "hash": "9e950de5f1e037158d52e176abfa743b08f42612097b7b49bb11fc6ef119aa2c"
   }
  }
 },
 "nbformat": 4,
 "nbformat_minor": 2
}
